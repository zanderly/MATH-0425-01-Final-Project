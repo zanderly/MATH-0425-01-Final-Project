{
 "cells": [
  {
   "attachments": {},
   "cell_type": "markdown",
   "id": "edc27021",
   "metadata": {},
   "source": [
    "Use read training data to read the data in the file train.data into the variables A, b.\n"
   ]
  },
  {
   "cell_type": "code",
   "execution_count": 1,
   "id": "404f48d5",
   "metadata": {},
   "outputs": [],
   "source": [
    "from efficient_cancer_data import read_training_data\n",
    "import numpy as np\n",
    "from sympy.matrices import Matrix\n",
    "\n",
    "train_data = \"train.data\"\n",
    "validate_data = \"validate.data\""
   ]
  },
  {
   "cell_type": "code",
   "execution_count": 2,
   "id": "a495d7b3",
   "metadata": {},
   "outputs": [],
   "source": [
    "try:\n",
    "    A, b = read_training_data(train_data)\n",
    "except FileNotFoundError:\n",
    "    raise IOError(f\"Error: Could not find file {train_data}.\")\n",
    "except ValueError:\n",
    "    raise ValueError(f\"Error: Invalid data in file {train_data}.\")\n"
   ]
  },
  {
   "attachments": {},
   "cell_type": "markdown",
   "id": "c0353b3c",
   "metadata": {},
   "source": [
    "(a) Use the QR algorithm to find the least-squares linear model for the data.\n"
   ]
  },
  {
   "cell_type": "code",
   "execution_count": 3,
   "id": "cc8e2a42",
   "metadata": {},
   "outputs": [],
   "source": [
    "Q, R = A.QRdecomposition()\n",
    "least_square_soln = R.inv() * Q.T * b\n",
    "b2 = A * least_square_soln  # Ax=b\n",
    "# Linear model A(least_square_soln) - b2 = 0\n"
   ]
  },
  {
   "attachments": {},
   "cell_type": "markdown",
   "id": "0294d1f7",
   "metadata": {},
   "source": [
    "(b) Apply the linear model from (a) to the data set validate.data and predict the malignancy of the tissues. You will have to define a classifier function\n"
   ]
  },
  {
   "cell_type": "code",
   "execution_count": 4,
   "id": "33948a66",
   "metadata": {},
   "outputs": [],
   "source": [
    "# classifies based on malignancy of the tissues.\n",
    "def Classifier(y):\n",
    "    return np.sign(y)  # function returns the signs of each element\n"
   ]
  },
  {
   "cell_type": "code",
   "execution_count": 5,
   "id": "41bd2949",
   "metadata": {},
   "outputs": [],
   "source": [
    "try:\n",
    "    V, d = read_training_data(validate_data)  # reading the given data\n",
    "except FileNotFoundError:\n",
    "    raise IOError(f\"Error: Could not find file {validate_data}.\")\n",
    "except ValueError:\n",
    "    raise ValueError(f\"Error: Invalid data in file {validate_data}.\")\n",
    "\n",
    "# applying linear model from (a) to the validation data\n",
    "d2 = V * least_square_soln\n"
   ]
  },
  {
   "attachments": {},
   "cell_type": "markdown",
   "id": "7daa5328",
   "metadata": {},
   "source": [
    "(c) What is the percentage of samples that are incorrectly classified? Is it greater or\n",
    "smaller than the success rate on the training data?\n"
   ]
  },
  {
   "cell_type": "code",
   "execution_count": 6,
   "id": "caad4cce",
   "metadata": {},
   "outputs": [],
   "source": [
    "# A function that returns the percentage of data incorrectly classified\n",
    "def failure_rate(b, b2):\n",
    "    # to check if the signs of orignal b and b2 are different add the values of b and b2\n",
    "    # if it's zero then signs of b and b2 must be different so that's incorrect\n",
    "    \n",
    "    incorrect = 0  # keeps count of incorrect values\n",
    "    sumb = b + b2\n",
    "    for i in range(len(sumb)):\n",
    "        if sumb[i] == 0:\n",
    "            incorrect += 1\n",
    "\n",
    "    incorrectPercentage = round((incorrect / len(b)) * 100, 2)\n",
    "    return incorrectPercentage"
   ]
  },
  {
   "cell_type": "code",
   "execution_count": 7,
   "id": "13853872",
   "metadata": {},
   "outputs": [
    {
     "name": "stdout",
     "output_type": "stream",
     "text": [
      "4.67% of samples incorrectly classified.\n"
     ]
    }
   ],
   "source": [
    "# percentage of samples incorrectly classified in \"training data\"\n",
    "train_data_rate = failure_rate(b, Classifier(b2))\n",
    "print(f\"{train_data_rate}% of samples incorrectly classified.\")"
   ]
  },
  {
   "cell_type": "code",
   "execution_count": 8,
   "id": "7a588111",
   "metadata": {},
   "outputs": [
    {
     "name": "stdout",
     "output_type": "stream",
     "text": [
      "3.08% of samples incorrectly classified.\n"
     ]
    }
   ],
   "source": [
    "# percentage of samples incorrectly classified in \"validating data\"\n",
    "validate_date_rate = failure_rate(d, Classifier(d2))\n",
    "print(f\"{validate_date_rate}% of samples incorrectly classified.\")"
   ]
  },
  {
   "cell_type": "code",
   "execution_count": 9,
   "id": "cd151831",
   "metadata": {},
   "outputs": [
    {
     "name": "stdout",
     "output_type": "stream",
     "text": [
      "Linear model failure rate on the training data is higher.\n"
     ]
    }
   ],
   "source": [
    "# comparing the performance of the linear model on the training data and the validation data\n",
    "if (train_data_rate > validate_date_rate):\n",
    "    print(\"Linear model failure rate on the training data is higher.\")\n",
    "elif (train_data_rate < validate_date_rate):\n",
    "    print(\"Linear model failure rate on the validating data is higher.\")\n",
    "else:\n",
    "    print(\"Linear model failure rate on the training data and validating data are equal.\")"
   ]
  }
 ],
 "metadata": {
  "kernelspec": {
   "display_name": "csc665",
   "language": "python",
   "name": "python3"
  },
  "language_info": {
   "codemirror_mode": {
    "name": "ipython",
    "version": 3
   },
   "file_extension": ".py",
   "mimetype": "text/x-python",
   "name": "python",
   "nbconvert_exporter": "python",
   "pygments_lexer": "ipython3",
   "version": "3.9.13"
  }
 },
 "nbformat": 4,
 "nbformat_minor": 5
}
