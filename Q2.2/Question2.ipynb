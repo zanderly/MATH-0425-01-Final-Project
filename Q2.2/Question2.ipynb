{
 "cells": [
  {
   "attachments": {},
   "cell_type": "markdown",
   "id": "edc27021",
   "metadata": {},
   "source": [
    "Use read training data to read the data in the file train.data into the variables A, b.\n"
   ]
  },
  {
   "cell_type": "code",
   "execution_count": 61,
   "id": "b782317d",
   "metadata": {},
   "outputs": [],
   "source": [
    "import os\n",
    "# os.chdir('/daniel')\n"
   ]
  },
  {
   "cell_type": "code",
   "execution_count": 62,
   "id": "404f48d5",
   "metadata": {},
   "outputs": [],
   "source": [
    "from efficient_cancer_data import read_training_data\n",
    "import numpy as np\n",
    "import sympy as sym\n",
    "from sympy.matrices import Matrix\n",
    "\n",
    "train_data = \"train.data\"\n",
    "validate_data = \"validate.data\"\n"
   ]
  },
  {
   "cell_type": "code",
   "execution_count": 63,
   "id": "a495d7b3",
   "metadata": {},
   "outputs": [],
   "source": [
    "try:\n",
    "    A, b = read_training_data(train_data)\n",
    "except FileNotFoundError:\n",
    "    raise IOError(f\"Error: Could not find file {train_data}\")\n",
    "except ValueError:\n",
    "    raise ValueError(f\"Error: Invalid data in file {train_data}\")\n"
   ]
  },
  {
   "attachments": {},
   "cell_type": "markdown",
   "id": "c0353b3c",
   "metadata": {},
   "source": [
    "(a) Use the QR algorithm to find the least-squares linear model for the data.\n"
   ]
  },
  {
   "cell_type": "code",
   "execution_count": 64,
   "id": "cc8e2a42",
   "metadata": {},
   "outputs": [],
   "source": [
    "Q, R = A.QRdecomposition()\n",
    "least_square_soln = R.inv() * Q.T * b\n",
    "b2 = A * least_square_soln  # Ax=b\n",
    "# Linear model A(least_square_soln) - b2 = 0\n"
   ]
  },
  {
   "attachments": {},
   "cell_type": "markdown",
   "id": "0294d1f7",
   "metadata": {},
   "source": [
    "b. Apply the linear model from (a) to the data set validate.data and predict the malignancy of the tissues. You will have to define a classifier function\n"
   ]
  },
  {
   "cell_type": "code",
   "execution_count": 65,
   "id": "33948a66",
   "metadata": {},
   "outputs": [],
   "source": [
    "# classifies based on malignancy of the tissues.\n",
    "def Classifier(y):\n",
    "    x = np.sign(y)  # function returns the signs of each element\n",
    "    return x\n"
   ]
  },
  {
   "cell_type": "code",
   "execution_count": 66,
   "id": "41bd2949",
   "metadata": {},
   "outputs": [],
   "source": [
    "V, d = read_training_data(validate_data)  # reading the given data\n",
    "# applying linear model from (a) to the \"validate\" data\n",
    "d2 = V * least_square_soln\n"
   ]
  },
  {
   "attachments": {},
   "cell_type": "markdown",
   "id": "7daa5328",
   "metadata": {},
   "source": [
    "c. What is the percentage of samples that are incorrectly classified? Is it greater or\n",
    "smaller than the success rate on the training data?\n"
   ]
  },
  {
   "cell_type": "code",
   "execution_count": 67,
   "id": "caad4cce",
   "metadata": {},
   "outputs": [],
   "source": [
    "# A function that returns the percentage of data incorrectly classified\n",
    "def failure_rate(b, b2):\n",
    "    # to check if the signs of orignal b and b2 are different add the values of b and b2\n",
    "    # if it's zero then signs of b and b2 must be different so that's incorrect\n",
    "    incorrect = 0  # keeps count of incorrect values\n",
    "    correct = 0\n",
    "    sumb = b + b2\n",
    "    for j in range(len(sumb)):\n",
    "        if sumb[j] == 0:\n",
    "            incorrect += 1\n",
    "        else:\n",
    "            correct += 1\n",
    "    percentageOfIncorrect = (incorrect / len(b)) * 100\n",
    "    return percentageOfIncorrect\n"
   ]
  },
  {
   "cell_type": "code",
   "execution_count": 68,
   "id": "13853872",
   "metadata": {},
   "outputs": [
    {
     "name": "stdout",
     "output_type": "stream",
     "text": [
      "4.666666666666667 %\n"
     ]
    }
   ],
   "source": [
    "# percentage of smaples incorrectly classified in \"traning data\"\n",
    "print(failure_rate(b, Classifier(b2)), \"%\")\n"
   ]
  },
  {
   "cell_type": "code",
   "execution_count": 69,
   "id": "7a588111",
   "metadata": {},
   "outputs": [
    {
     "name": "stdout",
     "output_type": "stream",
     "text": [
      "3.076923076923077 %\n"
     ]
    }
   ],
   "source": [
    "# percentage of smaples incorrectly classified in \"validating data\"\n",
    "print(failure_rate(d, Classifier(d2)), \"%\")\n"
   ]
  },
  {
   "cell_type": "code",
   "execution_count": 70,
   "id": "cd151831",
   "metadata": {},
   "outputs": [
    {
     "name": "stdout",
     "output_type": "stream",
     "text": [
      "Linear model failure rate on the training data is higher \n"
     ]
    }
   ],
   "source": [
    "print(\"Linear model failure rate on the training data is higher \")\n"
   ]
  },
  {
   "cell_type": "code",
   "execution_count": null,
   "id": "e76fc0e1",
   "metadata": {},
   "outputs": [],
   "source": []
  }
 ],
 "metadata": {
  "kernelspec": {
   "display_name": "csc665",
   "language": "python",
   "name": "python3"
  },
  "language_info": {
   "codemirror_mode": {
    "name": "ipython",
    "version": 3
   },
   "file_extension": ".py",
   "mimetype": "text/x-python",
   "name": "python",
   "nbconvert_exporter": "python",
   "pygments_lexer": "ipython3",
   "version": "3.10.11"
  }
 },
 "nbformat": 4,
 "nbformat_minor": 5
}
