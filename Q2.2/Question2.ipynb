{
 "cells": [
  {
   "cell_type": "markdown",
   "id": "edc27021",
   "metadata": {},
   "source": [
    "Use read training data to read the data in the file train.data into the variables A, b."
   ]
  },
  {
   "cell_type": "code",
   "execution_count": 33,
   "id": "b782317d",
   "metadata": {},
   "outputs": [],
   "source": [
    "import os\n",
    "#os.chdir('/daniel')"
   ]
  },
  {
   "cell_type": "code",
   "execution_count": 34,
   "id": "404f48d5",
   "metadata": {},
   "outputs": [],
   "source": [
    "from efficient_cancer_data import read_training_data\n",
    "import numpy as np  \n",
    "import sympy as sym \n",
    "from sympy.matrices import Matrix "
   ]
  },
  {
   "cell_type": "code",
   "execution_count": 35,
   "id": "a495d7b3",
   "metadata": {},
   "outputs": [],
   "source": [
    "A,b = read_training_data('train.data') # reading the given data"
   ]
  },
  {
   "cell_type": "markdown",
   "id": "c0353b3c",
   "metadata": {},
   "source": [
    "(a) Use the QR algorithm to find the least-squares linear model for the data."
   ]
  },
  {
   "cell_type": "code",
   "execution_count": 36,
   "id": "cc8e2a42",
   "metadata": {},
   "outputs": [],
   "source": [
    "Q,R = A.QRdecomposition()\n",
    "least_square_soln = R.inv() * Q.T * b\n",
    "b2 = A*least_square_soln # Ax=b\n",
    "# Linear model A(least_square_soln) - b2 = 0"
   ]
  },
  {
   "cell_type": "markdown",
   "id": "0294d1f7",
   "metadata": {},
   "source": [
    "b. Apply the linear model from (a) to the data set validate.data and predict the malignancy of the tissues. You will have to define a classifier function"
   ]
  },
  {
   "cell_type": "code",
   "execution_count": 37,
   "id": "33948a66",
   "metadata": {},
   "outputs": [],
   "source": [
    "# classifies based on malignancy of the tissues.\n",
    "def Classifier(y):\n",
    "    x=np.sign(y) # function returns the signs of each element\n",
    "    return x\n"
   ]
  },
  {
   "cell_type": "code",
   "execution_count": 38,
   "id": "41bd2949",
   "metadata": {},
   "outputs": [],
   "source": [
    "V,d = read_training_data('validate.data') # reading the given data\n",
    "d2 = V*least_square_soln # applying linear model from (a) to the \"validate\" data"
   ]
  },
  {
   "cell_type": "markdown",
   "id": "7daa5328",
   "metadata": {},
   "source": [
    "c. What is the percentage of samples that are incorrectly classified? Is it greater or\n",
    "smaller than the success rate on the training data?"
   ]
  },
  {
   "cell_type": "code",
   "execution_count": 39,
   "id": "caad4cce",
   "metadata": {},
   "outputs": [],
   "source": [
    "# A function that returns the percentage of data incorrectly classified\n",
    "def failure_rate(b,b2):\n",
    "    #to check if the signs of orignal b and b2 are different add the values of b and b2\n",
    "    #if it's zero then signs of b and b2 must be different so that's incorrect\n",
    "    incorrect=0 # keeps count of incorrect values\n",
    "    correct=0\n",
    "    sumb=b+b2\n",
    "    for j in range(len(sumb)):\n",
    "        if sumb[j]==0:\n",
    "            incorrect+=1;\n",
    "        else:\n",
    "            correct+=1;\n",
    "    percentageOfIncorrect= (incorrect/len(b))*100\n",
    "    return percentageOfIncorrect"
   ]
  },
  {
   "cell_type": "code",
   "execution_count": 40,
   "id": "13853872",
   "metadata": {},
   "outputs": [
    {
     "ename": "TypeError",
     "evalue": "'>=' not supported between instances of 'MutableDenseMatrix' and 'int'",
     "output_type": "error",
     "traceback": [
      "\u001b[0;31m---------------------------------------------------------------------------\u001b[0m",
      "\u001b[0;31mTypeError\u001b[0m                                 Traceback (most recent call last)",
      "Cell \u001b[0;32mIn[40], line 2\u001b[0m\n\u001b[1;32m      1\u001b[0m \u001b[39m# percentage of smaples incorrectly classified in \"traning data\"\u001b[39;00m\n\u001b[0;32m----> 2\u001b[0m \u001b[39mprint\u001b[39m(failure_rate(b,Classifier(b2)) , \u001b[39m\"\u001b[39m\u001b[39m%\u001b[39m\u001b[39m\"\u001b[39m)\n",
      "Cell \u001b[0;32mIn[37], line 3\u001b[0m, in \u001b[0;36mClassifier\u001b[0;34m(y)\u001b[0m\n\u001b[1;32m      2\u001b[0m \u001b[39mdef\u001b[39;00m \u001b[39mClassifier\u001b[39m(y):\n\u001b[0;32m----> 3\u001b[0m     \u001b[39mif\u001b[39;00m y \u001b[39m>\u001b[39;49m\u001b[39m=\u001b[39;49m \u001b[39m0\u001b[39;49m:\n\u001b[1;32m      4\u001b[0m         \u001b[39mreturn\u001b[39;00m \u001b[39m1\u001b[39m\n\u001b[1;32m      5\u001b[0m     \u001b[39melse\u001b[39;00m:\n",
      "\u001b[0;31mTypeError\u001b[0m: '>=' not supported between instances of 'MutableDenseMatrix' and 'int'"
     ]
    }
   ],
   "source": [
    "# percentage of smaples incorrectly classified in \"traning data\"\n",
    "print(failure_rate(b,Classifier(b2)) , \"%\")"
   ]
  },
  {
   "cell_type": "code",
   "execution_count": null,
   "id": "7a588111",
   "metadata": {},
   "outputs": [
    {
     "name": "stdout",
     "output_type": "stream",
     "text": [
      "3.076923076923077 %\n"
     ]
    }
   ],
   "source": [
    "# percentage of smaples incorrectly classified in \"validating data\"\n",
    "print(failure_rate(d,Classifier(d2)) , \"%\")"
   ]
  },
  {
   "cell_type": "code",
   "execution_count": null,
   "id": "cd151831",
   "metadata": {},
   "outputs": [
    {
     "name": "stdout",
     "output_type": "stream",
     "text": [
      "Linear model failure rate on the training data is higher \n"
     ]
    }
   ],
   "source": [
    "print(\"Linear model failure rate on the training data is higher \")"
   ]
  },
  {
   "cell_type": "code",
   "execution_count": null,
   "id": "e76fc0e1",
   "metadata": {},
   "outputs": [],
   "source": []
  }
 ],
 "metadata": {
  "kernelspec": {
   "display_name": "csc665",
   "language": "python",
   "name": "python3"
  },
  "language_info": {
   "codemirror_mode": {
    "name": "ipython",
    "version": 3
   },
   "file_extension": ".py",
   "mimetype": "text/x-python",
   "name": "python",
   "nbconvert_exporter": "python",
   "pygments_lexer": "ipython3",
   "version": "3.10.11"
  }
 },
 "nbformat": 4,
 "nbformat_minor": 5
}
