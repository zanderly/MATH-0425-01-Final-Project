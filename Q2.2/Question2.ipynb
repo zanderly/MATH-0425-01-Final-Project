{
 "cells": [
  {
   "cell_type": "markdown",
   "id": "edc27021",
   "metadata": {},
   "source": [
    "Use read training data to read the data in the file train.data into the variables A, b."
   ]
  },
  {
   "cell_type": "code",
   "execution_count": 12,
   "id": "b782317d",
   "metadata": {},
   "outputs": [],
   "source": [
    "import os\n",
    "#os.chdir('/daniel')"
   ]
  },
  {
   "cell_type": "code",
   "execution_count": 13,
   "id": "404f48d5",
   "metadata": {},
   "outputs": [],
   "source": [
    "from efficient_cancer_data import read_training_data\n",
    "import numpy as np  \n",
    "import sympy as sym \n",
    "from sympy.matrices import Matrix "
   ]
  },
  {
   "cell_type": "code",
   "execution_count": 14,
   "id": "a495d7b3",
   "metadata": {},
   "outputs": [
    {
     "ename": "FileNotFoundError",
     "evalue": "[Errno 2] No such file or directory: 'train.data'",
     "output_type": "error",
     "traceback": [
      "\u001b[0;31m---------------------------------------------------------------------------\u001b[0m",
      "\u001b[0;31mFileNotFoundError\u001b[0m                         Traceback (most recent call last)",
      "Cell \u001b[0;32mIn[14], line 1\u001b[0m\n\u001b[0;32m----> 1\u001b[0m A,b \u001b[39m=\u001b[39m read_training_data(\u001b[39m'\u001b[39;49m\u001b[39mtrain.data\u001b[39;49m\u001b[39m'\u001b[39;49m) \u001b[39m# reading the given data\u001b[39;00m\n",
      "File \u001b[0;32m~/Documents/GitHub/MATH-0425-01-Final-Project/Q2.2/efficient_cancer_data.py:22\u001b[0m, in \u001b[0;36mread_training_data\u001b[0;34m(fname, D)\u001b[0m\n\u001b[1;32m     10\u001b[0m \u001b[39mdef\u001b[39;00m \u001b[39mread_training_data\u001b[39m(fname, D\u001b[39m=\u001b[39m\u001b[39mNone\u001b[39;00m):\n\u001b[1;32m     11\u001b[0m \u001b[39m    \u001b[39m\u001b[39m\"\"\"Given a file in appropriate format, and given a set D of features,\u001b[39;00m\n\u001b[1;32m     12\u001b[0m \u001b[39m    returns the pair (A, b) consisting of\u001b[39;00m\n\u001b[1;32m     13\u001b[0m \u001b[39m    a P-by-D matrix A and a P-vector b,\u001b[39;00m\n\u001b[0;32m   (...)\u001b[0m\n\u001b[1;32m     20\u001b[0m \u001b[39m    The set D of features must be a subset of the features in the data (see text).\u001b[39;00m\n\u001b[1;32m     21\u001b[0m \u001b[39m    \"\"\"\u001b[39;00m\n\u001b[0;32m---> 22\u001b[0m     file \u001b[39m=\u001b[39m \u001b[39mopen\u001b[39;49m(fname)\n\u001b[1;32m     23\u001b[0m     params \u001b[39m=\u001b[39m [\u001b[39m\"\u001b[39m\u001b[39mradius\u001b[39m\u001b[39m\"\u001b[39m, \u001b[39m\"\u001b[39m\u001b[39mtexture\u001b[39m\u001b[39m\"\u001b[39m, \u001b[39m\"\u001b[39m\u001b[39mperimeter\u001b[39m\u001b[39m\"\u001b[39m, \u001b[39m\"\u001b[39m\u001b[39marea\u001b[39m\u001b[39m\"\u001b[39m, \u001b[39m\"\u001b[39m\u001b[39msmoothness\u001b[39m\u001b[39m\"\u001b[39m,\n\u001b[1;32m     24\u001b[0m               \u001b[39m\"\u001b[39m\u001b[39mcompactness\u001b[39m\u001b[39m\"\u001b[39m, \u001b[39m\"\u001b[39m\u001b[39mconcavity\u001b[39m\u001b[39m\"\u001b[39m, \u001b[39m\"\u001b[39m\u001b[39mconcave points\u001b[39m\u001b[39m\"\u001b[39m, \u001b[39m\"\u001b[39m\u001b[39msymmetry\u001b[39m\u001b[39m\"\u001b[39m, \u001b[39m\"\u001b[39m\u001b[39mfractal dimension\u001b[39m\u001b[39m\"\u001b[39m]\n\u001b[1;32m     25\u001b[0m     stats \u001b[39m=\u001b[39m [\u001b[39m\"\u001b[39m\u001b[39m(mean)\u001b[39m\u001b[39m\"\u001b[39m, \u001b[39m\"\u001b[39m\u001b[39m(stderr)\u001b[39m\u001b[39m\"\u001b[39m, \u001b[39m\"\u001b[39m\u001b[39m(worst)\u001b[39m\u001b[39m\"\u001b[39m]\n",
      "\u001b[0;31mFileNotFoundError\u001b[0m: [Errno 2] No such file or directory: 'train.data'"
     ]
    }
   ],
   "source": [
    "A,b = read_training_data('train.data') # reading the given data"
   ]
  },
  {
   "cell_type": "markdown",
   "id": "c0353b3c",
   "metadata": {},
   "source": [
    "(a) Use the QR algorithm to find the least-squares linear model for the data."
   ]
  },
  {
   "cell_type": "code",
   "execution_count": null,
   "id": "cc8e2a42",
   "metadata": {},
   "outputs": [
    {
     "ename": "",
     "evalue": "",
     "output_type": "error",
     "traceback": [
      "\u001b[1;31mFailed to start the Kernel. \n",
      "\u001b[1;31mdyld[72556]: Library not loaded: @rpath/libreadline.6.2.dylib\n",
      "\u001b[1;31m  Referenced from: <185433D7-8B40-31AA-8BD9-465D23C57257> /Users/alexanderbjeldanes/opt/anaconda3/lib/R/lib/libR.dylib\n",
      "\u001b[1;31m  Reason: tried: '/Users/alexanderbjeldanes/opt/anaconda3/lib/R/lib/../../libreadline.6.2.dylib' (no such file), '/Users/alexanderbjeldanes/opt/anaconda3/lib/R/bin/exec/../../../libreadline.6.2.dylib' (no such file), '/Users/alexanderbjeldanes/opt/anaconda3/lib/R/bin/exec/../../../libreadline.6.2.dylib' (no such file), '/System/Volumes/Preboot/Cryptexes/OS@rpath/libreadline.6.2.dylib' (no such file), '/Users/alexanderbjeldanes/opt/anaconda3/lib/R/lib/../../libreadline.6.2.dylib' (no such file), '/Users/alexanderbjeldanes/opt/anaconda3/lib/R/bin/exec/../../../libreadline.6.2.dylib' (no such file), '/Users/alexanderbjeldanes/opt/anaconda3/lib/R/bin/exec/../../../libreadline.6.2.dylib' (no such file), '/Users/alexanderbjeldanes/opt/anaconda3/lib/R/lib/libreadline.6.2.dylib' (no such file), '/Users/alexanderbjeldanes/opt/anaconda3/lib/libreadline.6.2.dylib' (no such file), '/Users/alexanderbjeldanes/opt/anaconda3/libreadline.6.2.dylib' (no such file). \n",
      "\u001b[1;31mView Jupyter <a href='command:jupyter.viewOutput'>log</a> for further details."
     ]
    }
   ],
   "source": [
    "Q,R = A.QRdecomposition()\n",
    "least_square_soln = R.inv() * Q.T * b\n",
    "b2 = A*least_square_soln # Ax=b\n",
    "# Linear model A(least_square_soln) - b2 = 0"
   ]
  },
  {
   "cell_type": "markdown",
   "id": "0294d1f7",
   "metadata": {},
   "source": [
    "b. Apply the linear model from (a) to the data set validate.data and predict the malignancy of the tissues. You will have to define a classifier function"
   ]
  },
  {
   "cell_type": "code",
   "execution_count": null,
   "id": "33948a66",
   "metadata": {},
   "outputs": [
    {
     "ename": "",
     "evalue": "",
     "output_type": "error",
     "traceback": [
      "\u001b[1;31mFailed to start the Kernel. \n",
      "\u001b[1;31mdyld[72556]: Library not loaded: @rpath/libreadline.6.2.dylib\n",
      "\u001b[1;31m  Referenced from: <185433D7-8B40-31AA-8BD9-465D23C57257> /Users/alexanderbjeldanes/opt/anaconda3/lib/R/lib/libR.dylib\n",
      "\u001b[1;31m  Reason: tried: '/Users/alexanderbjeldanes/opt/anaconda3/lib/R/lib/../../libreadline.6.2.dylib' (no such file), '/Users/alexanderbjeldanes/opt/anaconda3/lib/R/bin/exec/../../../libreadline.6.2.dylib' (no such file), '/Users/alexanderbjeldanes/opt/anaconda3/lib/R/bin/exec/../../../libreadline.6.2.dylib' (no such file), '/System/Volumes/Preboot/Cryptexes/OS@rpath/libreadline.6.2.dylib' (no such file), '/Users/alexanderbjeldanes/opt/anaconda3/lib/R/lib/../../libreadline.6.2.dylib' (no such file), '/Users/alexanderbjeldanes/opt/anaconda3/lib/R/bin/exec/../../../libreadline.6.2.dylib' (no such file), '/Users/alexanderbjeldanes/opt/anaconda3/lib/R/bin/exec/../../../libreadline.6.2.dylib' (no such file), '/Users/alexanderbjeldanes/opt/anaconda3/lib/R/lib/libreadline.6.2.dylib' (no such file), '/Users/alexanderbjeldanes/opt/anaconda3/lib/libreadline.6.2.dylib' (no such file), '/Users/alexanderbjeldanes/opt/anaconda3/libreadline.6.2.dylib' (no such file). \n",
      "\u001b[1;31mView Jupyter <a href='command:jupyter.viewOutput'>log</a> for further details."
     ]
    }
   ],
   "source": [
    "# classifies based on malignancy of the tissues.\n",
    "def Classifier(y):\n",
    "    x=np.sign(y) # function returns the signs of each element\n",
    "    return x\n"
   ]
  },
  {
   "cell_type": "code",
   "execution_count": null,
   "id": "41bd2949",
   "metadata": {},
   "outputs": [
    {
     "ename": "",
     "evalue": "",
     "output_type": "error",
     "traceback": [
      "\u001b[1;31mFailed to start the Kernel. \n",
      "\u001b[1;31mdyld[72556]: Library not loaded: @rpath/libreadline.6.2.dylib\n",
      "\u001b[1;31m  Referenced from: <185433D7-8B40-31AA-8BD9-465D23C57257> /Users/alexanderbjeldanes/opt/anaconda3/lib/R/lib/libR.dylib\n",
      "\u001b[1;31m  Reason: tried: '/Users/alexanderbjeldanes/opt/anaconda3/lib/R/lib/../../libreadline.6.2.dylib' (no such file), '/Users/alexanderbjeldanes/opt/anaconda3/lib/R/bin/exec/../../../libreadline.6.2.dylib' (no such file), '/Users/alexanderbjeldanes/opt/anaconda3/lib/R/bin/exec/../../../libreadline.6.2.dylib' (no such file), '/System/Volumes/Preboot/Cryptexes/OS@rpath/libreadline.6.2.dylib' (no such file), '/Users/alexanderbjeldanes/opt/anaconda3/lib/R/lib/../../libreadline.6.2.dylib' (no such file), '/Users/alexanderbjeldanes/opt/anaconda3/lib/R/bin/exec/../../../libreadline.6.2.dylib' (no such file), '/Users/alexanderbjeldanes/opt/anaconda3/lib/R/bin/exec/../../../libreadline.6.2.dylib' (no such file), '/Users/alexanderbjeldanes/opt/anaconda3/lib/R/lib/libreadline.6.2.dylib' (no such file), '/Users/alexanderbjeldanes/opt/anaconda3/lib/libreadline.6.2.dylib' (no such file), '/Users/alexanderbjeldanes/opt/anaconda3/libreadline.6.2.dylib' (no such file). \n",
      "\u001b[1;31mView Jupyter <a href='command:jupyter.viewOutput'>log</a> for further details."
     ]
    }
   ],
   "source": [
    "V,d = read_training_data('validate.data') # reading the given data\n",
    "d2 = V*least_square_soln # applying linear model from (a) to the \"validate\" data"
   ]
  },
  {
   "cell_type": "markdown",
   "id": "7daa5328",
   "metadata": {},
   "source": [
    "c. What is the percentage of samples that are incorrectly classified? Is it greater or\n",
    "smaller than the success rate on the training data?"
   ]
  },
  {
   "cell_type": "code",
   "execution_count": null,
   "id": "caad4cce",
   "metadata": {},
   "outputs": [
    {
     "ename": "",
     "evalue": "",
     "output_type": "error",
     "traceback": [
      "\u001b[1;31mFailed to start the Kernel. \n",
      "\u001b[1;31mdyld[72556]: Library not loaded: @rpath/libreadline.6.2.dylib\n",
      "\u001b[1;31m  Referenced from: <185433D7-8B40-31AA-8BD9-465D23C57257> /Users/alexanderbjeldanes/opt/anaconda3/lib/R/lib/libR.dylib\n",
      "\u001b[1;31m  Reason: tried: '/Users/alexanderbjeldanes/opt/anaconda3/lib/R/lib/../../libreadline.6.2.dylib' (no such file), '/Users/alexanderbjeldanes/opt/anaconda3/lib/R/bin/exec/../../../libreadline.6.2.dylib' (no such file), '/Users/alexanderbjeldanes/opt/anaconda3/lib/R/bin/exec/../../../libreadline.6.2.dylib' (no such file), '/System/Volumes/Preboot/Cryptexes/OS@rpath/libreadline.6.2.dylib' (no such file), '/Users/alexanderbjeldanes/opt/anaconda3/lib/R/lib/../../libreadline.6.2.dylib' (no such file), '/Users/alexanderbjeldanes/opt/anaconda3/lib/R/bin/exec/../../../libreadline.6.2.dylib' (no such file), '/Users/alexanderbjeldanes/opt/anaconda3/lib/R/bin/exec/../../../libreadline.6.2.dylib' (no such file), '/Users/alexanderbjeldanes/opt/anaconda3/lib/R/lib/libreadline.6.2.dylib' (no such file), '/Users/alexanderbjeldanes/opt/anaconda3/lib/libreadline.6.2.dylib' (no such file), '/Users/alexanderbjeldanes/opt/anaconda3/libreadline.6.2.dylib' (no such file). \n",
      "\u001b[1;31mView Jupyter <a href='command:jupyter.viewOutput'>log</a> for further details."
     ]
    }
   ],
   "source": [
    "# A function that returns the percentage of data incorrectly classified\n",
    "def failure_rate(b,b2):\n",
    "    #to check if the signs of orignal b and b2 are different add the values of b and b2\n",
    "    #if it's zero then signs of b and b2 must be different so that's incorrect\n",
    "    incorrect=0 # keeps count of incorrect values\n",
    "    correct=0\n",
    "    sumb=b+b2\n",
    "    for j in range(len(sumb)):\n",
    "        if sumb[j]==0:\n",
    "            incorrect+=1;\n",
    "        else:\n",
    "            correct+=1;\n",
    "    percentageOfIncorrect= (incorrect/len(b))*100\n",
    "    return percentageOfIncorrect"
   ]
  },
  {
   "cell_type": "code",
   "execution_count": null,
   "id": "13853872",
   "metadata": {},
   "outputs": [
    {
     "ename": "",
     "evalue": "",
     "output_type": "error",
     "traceback": [
      "\u001b[1;31mFailed to start the Kernel. \n",
      "\u001b[1;31mdyld[72556]: Library not loaded: @rpath/libreadline.6.2.dylib\n",
      "\u001b[1;31m  Referenced from: <185433D7-8B40-31AA-8BD9-465D23C57257> /Users/alexanderbjeldanes/opt/anaconda3/lib/R/lib/libR.dylib\n",
      "\u001b[1;31m  Reason: tried: '/Users/alexanderbjeldanes/opt/anaconda3/lib/R/lib/../../libreadline.6.2.dylib' (no such file), '/Users/alexanderbjeldanes/opt/anaconda3/lib/R/bin/exec/../../../libreadline.6.2.dylib' (no such file), '/Users/alexanderbjeldanes/opt/anaconda3/lib/R/bin/exec/../../../libreadline.6.2.dylib' (no such file), '/System/Volumes/Preboot/Cryptexes/OS@rpath/libreadline.6.2.dylib' (no such file), '/Users/alexanderbjeldanes/opt/anaconda3/lib/R/lib/../../libreadline.6.2.dylib' (no such file), '/Users/alexanderbjeldanes/opt/anaconda3/lib/R/bin/exec/../../../libreadline.6.2.dylib' (no such file), '/Users/alexanderbjeldanes/opt/anaconda3/lib/R/bin/exec/../../../libreadline.6.2.dylib' (no such file), '/Users/alexanderbjeldanes/opt/anaconda3/lib/R/lib/libreadline.6.2.dylib' (no such file), '/Users/alexanderbjeldanes/opt/anaconda3/lib/libreadline.6.2.dylib' (no such file), '/Users/alexanderbjeldanes/opt/anaconda3/libreadline.6.2.dylib' (no such file). \n",
      "\u001b[1;31mView Jupyter <a href='command:jupyter.viewOutput'>log</a> for further details."
     ]
    }
   ],
   "source": [
    "# percentage of smaples incorrectly classified in \"traning data\"\n",
    "print(failure_rate(b,Classifier(b2)) , \"%\")\n"
   ]
  },
  {
   "cell_type": "code",
   "execution_count": null,
   "id": "7a588111",
   "metadata": {},
   "outputs": [
    {
     "ename": "",
     "evalue": "",
     "output_type": "error",
     "traceback": [
      "\u001b[1;31mFailed to start the Kernel. \n",
      "\u001b[1;31mdyld[72556]: Library not loaded: @rpath/libreadline.6.2.dylib\n",
      "\u001b[1;31m  Referenced from: <185433D7-8B40-31AA-8BD9-465D23C57257> /Users/alexanderbjeldanes/opt/anaconda3/lib/R/lib/libR.dylib\n",
      "\u001b[1;31m  Reason: tried: '/Users/alexanderbjeldanes/opt/anaconda3/lib/R/lib/../../libreadline.6.2.dylib' (no such file), '/Users/alexanderbjeldanes/opt/anaconda3/lib/R/bin/exec/../../../libreadline.6.2.dylib' (no such file), '/Users/alexanderbjeldanes/opt/anaconda3/lib/R/bin/exec/../../../libreadline.6.2.dylib' (no such file), '/System/Volumes/Preboot/Cryptexes/OS@rpath/libreadline.6.2.dylib' (no such file), '/Users/alexanderbjeldanes/opt/anaconda3/lib/R/lib/../../libreadline.6.2.dylib' (no such file), '/Users/alexanderbjeldanes/opt/anaconda3/lib/R/bin/exec/../../../libreadline.6.2.dylib' (no such file), '/Users/alexanderbjeldanes/opt/anaconda3/lib/R/bin/exec/../../../libreadline.6.2.dylib' (no such file), '/Users/alexanderbjeldanes/opt/anaconda3/lib/R/lib/libreadline.6.2.dylib' (no such file), '/Users/alexanderbjeldanes/opt/anaconda3/lib/libreadline.6.2.dylib' (no such file), '/Users/alexanderbjeldanes/opt/anaconda3/libreadline.6.2.dylib' (no such file). \n",
      "\u001b[1;31mView Jupyter <a href='command:jupyter.viewOutput'>log</a> for further details."
     ]
    }
   ],
   "source": [
    "# percentage of smaples incorrectly classified in \"validating data\"\n",
    "print(failure_rate(d,Classifier(d2)) , \"%\")\n"
   ]
  },
  {
   "cell_type": "code",
   "execution_count": null,
   "id": "cd151831",
   "metadata": {},
   "outputs": [
    {
     "ename": "",
     "evalue": "",
     "output_type": "error",
     "traceback": [
      "\u001b[1;31mFailed to start the Kernel. \n",
      "\u001b[1;31mdyld[72556]: Library not loaded: @rpath/libreadline.6.2.dylib\n",
      "\u001b[1;31m  Referenced from: <185433D7-8B40-31AA-8BD9-465D23C57257> /Users/alexanderbjeldanes/opt/anaconda3/lib/R/lib/libR.dylib\n",
      "\u001b[1;31m  Reason: tried: '/Users/alexanderbjeldanes/opt/anaconda3/lib/R/lib/../../libreadline.6.2.dylib' (no such file), '/Users/alexanderbjeldanes/opt/anaconda3/lib/R/bin/exec/../../../libreadline.6.2.dylib' (no such file), '/Users/alexanderbjeldanes/opt/anaconda3/lib/R/bin/exec/../../../libreadline.6.2.dylib' (no such file), '/System/Volumes/Preboot/Cryptexes/OS@rpath/libreadline.6.2.dylib' (no such file), '/Users/alexanderbjeldanes/opt/anaconda3/lib/R/lib/../../libreadline.6.2.dylib' (no such file), '/Users/alexanderbjeldanes/opt/anaconda3/lib/R/bin/exec/../../../libreadline.6.2.dylib' (no such file), '/Users/alexanderbjeldanes/opt/anaconda3/lib/R/bin/exec/../../../libreadline.6.2.dylib' (no such file), '/Users/alexanderbjeldanes/opt/anaconda3/lib/R/lib/libreadline.6.2.dylib' (no such file), '/Users/alexanderbjeldanes/opt/anaconda3/lib/libreadline.6.2.dylib' (no such file), '/Users/alexanderbjeldanes/opt/anaconda3/libreadline.6.2.dylib' (no such file). \n",
      "\u001b[1;31mView Jupyter <a href='command:jupyter.viewOutput'>log</a> for further details."
     ]
    }
   ],
   "source": [
    "print(\"Linear model failure rate on the training data is higher \")"
   ]
  },
  {
   "cell_type": "code",
   "execution_count": null,
   "id": "e76fc0e1",
   "metadata": {},
   "outputs": [
    {
     "ename": "",
     "evalue": "",
     "output_type": "error",
     "traceback": [
      "\u001b[1;31mFailed to start the Kernel. \n",
      "\u001b[1;31mdyld[72556]: Library not loaded: @rpath/libreadline.6.2.dylib\n",
      "\u001b[1;31m  Referenced from: <185433D7-8B40-31AA-8BD9-465D23C57257> /Users/alexanderbjeldanes/opt/anaconda3/lib/R/lib/libR.dylib\n",
      "\u001b[1;31m  Reason: tried: '/Users/alexanderbjeldanes/opt/anaconda3/lib/R/lib/../../libreadline.6.2.dylib' (no such file), '/Users/alexanderbjeldanes/opt/anaconda3/lib/R/bin/exec/../../../libreadline.6.2.dylib' (no such file), '/Users/alexanderbjeldanes/opt/anaconda3/lib/R/bin/exec/../../../libreadline.6.2.dylib' (no such file), '/System/Volumes/Preboot/Cryptexes/OS@rpath/libreadline.6.2.dylib' (no such file), '/Users/alexanderbjeldanes/opt/anaconda3/lib/R/lib/../../libreadline.6.2.dylib' (no such file), '/Users/alexanderbjeldanes/opt/anaconda3/lib/R/bin/exec/../../../libreadline.6.2.dylib' (no such file), '/Users/alexanderbjeldanes/opt/anaconda3/lib/R/bin/exec/../../../libreadline.6.2.dylib' (no such file), '/Users/alexanderbjeldanes/opt/anaconda3/lib/R/lib/libreadline.6.2.dylib' (no such file), '/Users/alexanderbjeldanes/opt/anaconda3/lib/libreadline.6.2.dylib' (no such file), '/Users/alexanderbjeldanes/opt/anaconda3/libreadline.6.2.dylib' (no such file). \n",
      "\u001b[1;31mView Jupyter <a href='command:jupyter.viewOutput'>log</a> for further details."
     ]
    }
   ],
   "source": []
  }
 ],
 "metadata": {
  "kernelspec": {
   "display_name": "csc665",
   "language": "python",
   "name": "python3"
  },
  "language_info": {
   "codemirror_mode": {
    "name": "ipython",
    "version": 3
   },
   "file_extension": ".py",
   "mimetype": "text/x-python",
   "name": "python",
   "nbconvert_exporter": "python",
   "pygments_lexer": "ipython3",
   "version": "3.10.11"
  }
 },
 "nbformat": 4,
 "nbformat_minor": 5
}
