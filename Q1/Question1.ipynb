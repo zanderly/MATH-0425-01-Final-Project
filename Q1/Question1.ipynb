{
 "cells": [
  {
   "cell_type": "code",
   "execution_count": 132,
   "metadata": {},
   "outputs": [],
   "source": [
    "import numpy as np\n",
    "from numpy import linalg as LA\n",
    "from imp import reload\n",
    "from numpy import array, identity, ones, nonzero, zeros\n",
    "from numpy import linalg as LA\n",
    "from collections import defaultdict\n",
    "import random\n",
    "\n",
    "from PageRank_module import pageRank\n",
    "\n",
    "file = \"top250movies.txt\""
   ]
  },
  {
   "cell_type": "code",
   "execution_count": 133,
   "metadata": {},
   "outputs": [],
   "source": [
    "try:\n",
    "    with open(file, encoding = \"utf-8\") as f:\n",
    "        movies = defaultdict(list)\n",
    "        for line in f:\n",
    "            line = line.strip().split('/')\n",
    "            movie = line[0]\n",
    "            cast = line[1:]\n",
    "            movies[movie].extend(cast)\n",
    "except FileNotFoundError:\n",
    "    raise IOError(f\"Error: Could not find file {file}.\")\n",
    "except ValueError:\n",
    "    raise ValueError(f\"Error: Invalid data in file {file}.\")\n"
   ]
  },
  {
   "cell_type": "code",
   "execution_count": 134,
   "metadata": {},
   "outputs": [
    {
     "name": "stdout",
     "output_type": "stream",
     "text": [
      "Number of movies:  250\n",
      "Number of actors:  14882\n",
      "Example entry:  ('The Nights of Cabiria (1957)', ['Giulietta Masina', 'François Périer', 'Franca Marzi', 'Dorian Gray', 'Aldo Silvani', 'Ennio Girolami', 'Mario Passante', 'Christian Tassou', 'Amedeo Nazzari', 'Gianni Baghino', 'Franco Balducci', 'Ciccio Barbi', 'Jusy Boncinelli', 'Loretta Capitoli', 'Leo Catozzo', 'Dominique Delouche', 'Edda Evangelista', 'Franco Fabrizi', 'Riccardo Fellini', 'Ines Ferrari', 'Biagio Gambini', 'Giovanna Gattinoni', 'Amedeo Girardi', 'Pina Gualandri', 'Elio Mauro', 'Nino Milano', 'Jean Mollier', 'Sandro Moretti', 'Sergio Parlato', 'Mimmo Poli', 'Polidor', 'María Luisa Rolando', 'Vittorio Tosti'])\n"
     ]
    }
   ],
   "source": [
    "print(\"Number of movies: \", len(movies))\n",
    "print(\"Number of actors: \", len(set([a for m in movies for a in movies[m]])))\n",
    "print(\"Example entry: \", list(movies.items())[random.randint(0, len(movies))])"
   ]
  },
  {
   "cell_type": "code",
   "execution_count": 135,
   "metadata": {},
   "outputs": [],
   "source": [
    "# Create adjacency matrix\n",
    "actors = sorted(set([actor for cast in movies.values() for actor in cast]))\n",
    "n = len(actors)\n",
    "G = zeros((n, n))\n",
    "\n",
    "for cast in movies.values():\n",
    "    for i, actor1 in enumerate(cast):\n",
    "        if actor1 in actors:\n",
    "            for actor2 in cast[i + 1:]:\n",
    "                if actor2 in actors and actor1 != actor2:\n",
    "                    G[actors.index(actor1), actors.index(actor2)] += 1"
   ]
  },
  {
   "cell_type": "code",
   "execution_count": 146,
   "metadata": {},
   "outputs": [],
   "source": [
    "# Compute PageRank\n",
    "netw = pageRank(G, actors,0.85,1e-6,15)\n",
    "prv = netw.linsolve()"
   ]
  },
  {
   "cell_type": "code",
   "execution_count": 147,
   "metadata": {},
   "outputs": [
    {
     "name": "stdout",
     "output_type": "stream",
     "text": [
      "Top 10 actors:\n",
      "Jef Groff: ('Ümit Çirak', 3.0203981396791377e-05)\n",
      "Danny Flaherty: ('Ülkü Duru', 6.622230005984798e-05)\n",
      "Kemal Inci: ('Øyvind Hagen-Traberg', 2.4684146515192746e-05)\n",
      "Diane Poulos: ('Özkan Ugur', 5.8004934358990924e-05)\n",
      "Robert Shayne: ('Özgül Arslan', 1.6658550763269785e-05)\n",
      "Jim Thornton: ('Özge Özberk', 2.9032782446397224e-05)\n",
      "Samui Muang-Intata: ('Íñigo Garcés', 1.5939942267674478e-05)\n",
      "John Houchin: ('Émilie Caen', 2.757783569185633e-05)\n",
      "Leslie Ishii: ('Éder Júlio Martins', 2.298070730118878e-05)\n",
      "Andrew Guzman: ('Çetin Tekindor', 0.0002524618046469687)\n",
      "Bottom 10 actors:\n",
      "Laura Linney: ('Aakash Dabhade', 2.3526200410298337e-05)\n",
      "Michael McShane: ('Aadil', 2.006202947545214e-05)\n",
      "Gene Kelly: ('A.S. Duggal', 4.160728074201984e-05)\n",
      "Lee Asquith-Coe: ('A.R. Haysel', 2.3295393765489663e-05)\n",
      "Paul McMichael: (\"A.J. O'Connor\", 1.8218814257187047e-05)\n",
      "Nelly Arno: ('A.B. Lane', 1.9141681029992788e-05)\n",
      "Yeon-Seok Yoo: ('A. Marshal Ward', 1.3671646342402958e-05)\n",
      "John Tomlinson: ('A. Cameron Grant', 2.700962635547669e-05)\n",
      "Roger Smith: (\"'Snub' Pollard\", 1.6517681120802674e-05)\n",
      "Robert C. Tetzlaff: (\"'Little Billy' Rhodes\", 1.6803191884328273e-05)\n"
     ]
    }
   ],
   "source": [
    "# Write the ranked movies to a file\n",
    "rankedActors = sorted(zip(actors, prv), key = lambda x: x[1], reverse = True)\n",
    "print(\"Top 10 actors:\")\n",
    "for actor, rank in rankedActors[:10]:\n",
    "    print(f\"{actor}: {rank}\")\n",
    "    \n",
    "print(\"Bottom 10 actors:\")\n",
    "for actor, rank in rankedActors[-10:]:\n",
    "    print(f\"{actor}: {rank}\")\n",
    "    \n",
    "with open(\"rankedMovies.txt\", \"w\") as f:\n",
    "    for actor, rank in rankedActors:\n",
    "        f.write(f\"{actor}\\n\")"
   ]
  }
 ],
 "metadata": {
  "kernelspec": {
   "display_name": "base",
   "language": "python",
   "name": "python3"
  },
  "language_info": {
   "codemirror_mode": {
    "name": "ipython",
    "version": 3
   },
   "file_extension": ".py",
   "mimetype": "text/x-python",
   "name": "python",
   "nbconvert_exporter": "python",
   "pygments_lexer": "ipython3",
   "version": "3.9.13"
  },
  "orig_nbformat": 4
 },
 "nbformat": 4,
 "nbformat_minor": 2
}
