{
 "cells": [
  {
   "cell_type": "code",
   "execution_count": 33,
   "metadata": {},
   "outputs": [],
   "source": [
    "from numpy import linalg as LA\n",
    "from numpy import array, identity, ones, nonzero, zeros, argmax\n",
    "from collections import defaultdict\n",
    "\n",
    "from PageRank_module import pageRank\n",
    "\n",
    "file = \"top250movies.txt\""
   ]
  },
  {
   "cell_type": "code",
   "execution_count": 34,
   "metadata": {},
   "outputs": [],
   "source": [
    "# try:\n",
    "#     with open(file, encoding = \"utf-8\") as f:\n",
    "#         movies = defaultdict(list)\n",
    "#         for line in f:\n",
    "#             line = line.strip().split('/')\n",
    "#             movie = line[0]\n",
    "#             cast = line[1:]\n",
    "#             movies[movie].extend(cast)\n",
    "# except FileNotFoundError:\n",
    "#     raise IOError(f\"Error: Could not find file {file}.\")\n",
    "# except ValueError:\n",
    "#     raise ValueError(f\"Error: Invalid data in file {file}.\")\n",
    "links=set()\n",
    "\n",
    "try:\n",
    "    with open(file, \"r\", encoding = \"utf-8\") as f:\n",
    "        for line in f:\n",
    "            ls=line.rstrip(\"\\n\").split(\"/\")\n",
    "            links.update(ls)\n",
    "except FileNotFoundError:\n",
    "    raise IOError(f\"Error: Could not find file {file}.\")\n",
    "except ValueError:\n",
    "    raise ValueError(f\"Error: Invalid data in file {file}.\")\n",
    "\n",
    "\n"
   ]
  },
  {
   "cell_type": "code",
   "execution_count": 35,
   "metadata": {},
   "outputs": [],
   "source": [
    "# Create adjacency matrix\n",
    "links=sorted(links)\n",
    "n = len(links)\n",
    "G = zeros((n, n))\n",
    "\n",
    "# for movie, cast in movies.items():\n",
    "#     for actor1 in cast:\n",
    "#         for actor2 in cast:\n",
    "#             if actor1 != actor2:\n",
    "#                 G[actors.index(actor1), actors.index(actor2)] = 1\n",
    "                \n",
    "with open(file, encoding = \"utf-8\") as f:\n",
    "    for line in f:\n",
    "        ls=line.rstrip(\"\\n\").split(\"/\")\n",
    "        row = [] # row indices of IDs\n",
    "        for i in ls:\n",
    "            row.append(links.index(i))\n",
    "\n",
    "        j = row[0] # First element is column index\n",
    "        # Link page j to page i, i.e. set G_{ij} to 1\n",
    "        G[row[1:],j] = 1.0\n",
    "f.close()"
   ]
  },
  {
   "cell_type": "code",
   "execution_count": 37,
   "metadata": {},
   "outputs": [],
   "source": [
    "# Compute PageRank\n",
    "netw = pageRank(G, links, 0.85, 1e-6, 15)\n",
    "\n",
    "prv = netw.linsolve()\n"
   ]
  },
  {
   "cell_type": "code",
   "execution_count": 38,
   "metadata": {},
   "outputs": [
    {
     "ename": "AttributeError",
     "evalue": "'list' object has no attribute 'items'",
     "output_type": "error",
     "traceback": [
      "\u001b[1;31m---------------------------------------------------------------------------\u001b[0m",
      "\u001b[1;31mAttributeError\u001b[0m                            Traceback (most recent call last)",
      "\u001b[1;32m~\\AppData\\Local\\Temp\\ipykernel_16960\\1800600023.py\u001b[0m in \u001b[0;36m<module>\u001b[1;34m\u001b[0m\n\u001b[0;32m      1\u001b[0m \u001b[1;31m# Count the occurrences of each actor\u001b[0m\u001b[1;33m\u001b[0m\u001b[1;33m\u001b[0m\u001b[0m\n\u001b[0;32m      2\u001b[0m \u001b[0mactor_counts\u001b[0m \u001b[1;33m=\u001b[0m \u001b[1;33m{\u001b[0m\u001b[1;33m}\u001b[0m\u001b[1;33m\u001b[0m\u001b[1;33m\u001b[0m\u001b[0m\n\u001b[1;32m----> 3\u001b[1;33m \u001b[1;32mfor\u001b[0m \u001b[0mmovie\u001b[0m\u001b[1;33m,\u001b[0m \u001b[0mcast\u001b[0m \u001b[1;32min\u001b[0m \u001b[0mlinks\u001b[0m\u001b[1;33m.\u001b[0m\u001b[0mitems\u001b[0m\u001b[1;33m(\u001b[0m\u001b[1;33m)\u001b[0m\u001b[1;33m:\u001b[0m\u001b[1;33m\u001b[0m\u001b[1;33m\u001b[0m\u001b[0m\n\u001b[0m\u001b[0;32m      4\u001b[0m     \u001b[1;32mfor\u001b[0m \u001b[0mactor\u001b[0m \u001b[1;32min\u001b[0m \u001b[0mcast\u001b[0m\u001b[1;33m:\u001b[0m\u001b[1;33m\u001b[0m\u001b[1;33m\u001b[0m\u001b[0m\n\u001b[0;32m      5\u001b[0m         \u001b[1;32mif\u001b[0m \u001b[0mactor\u001b[0m \u001b[1;32min\u001b[0m \u001b[0mactor_counts\u001b[0m\u001b[1;33m:\u001b[0m\u001b[1;33m\u001b[0m\u001b[1;33m\u001b[0m\u001b[0m\n",
      "\u001b[1;31mAttributeError\u001b[0m: 'list' object has no attribute 'items'"
     ]
    }
   ],
   "source": [
    "# Count the occurrences of each actor\n",
    "actor_counts = {}\n",
    "for movie, cast in links.items():\n",
    "    for actor in cast:\n",
    "        if actor in actor_counts:\n",
    "            actor_counts[actor] += 1\n",
    "        else:\n",
    "            actor_counts[actor] = 1\n",
    "\n",
    "# Sort the actors based on their occurrence count\n",
    "ranked_actors = sorted(actor_counts.items(), key=lambda item: item[1], reverse=True)\n",
    "\n",
    "print(\"Ranked actors based on occurrence count:\")\n",
    "for actor, count in ranked_actors:\n",
    "    print(f\"{actor}: {count} occurrences\")\n",
    "    "
   ]
  }
 ],
 "metadata": {
  "kernelspec": {
   "display_name": "base",
   "language": "python",
   "name": "python3"
  },
  "language_info": {
   "codemirror_mode": {
    "name": "ipython",
    "version": 3
   },
   "file_extension": ".py",
   "mimetype": "text/x-python",
   "name": "python",
   "nbconvert_exporter": "python",
   "pygments_lexer": "ipython3",
   "version": "3.9.13"
  },
  "orig_nbformat": 4
 },
 "nbformat": 4,
 "nbformat_minor": 2
}
