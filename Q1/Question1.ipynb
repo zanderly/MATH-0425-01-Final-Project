{
 "cells": [
  {
   "cell_type": "code",
   "execution_count": 65,
   "metadata": {},
   "outputs": [],
   "source": [
    "import numpy as np\n",
    "from numpy import linalg as LA\n",
    "from imp import reload\n",
    "from numpy import array, identity, ones, nonzero, zeros\n",
    "from numpy import linalg as LA\n",
    "import networkx as nx\n",
    "from collections import defaultdict\n",
    "import random\n",
    "\n",
    "file = \"top250movies.txt\""
   ]
  },
  {
   "cell_type": "code",
   "execution_count": 66,
   "metadata": {},
   "outputs": [],
   "source": [
    "def sortPageRank(prdict):\n",
    "    return sorted(prdict.items(), key = lambda item: item[1], reverse=True)\n"
   ]
  },
  {
   "cell_type": "code",
   "execution_count": 67,
   "metadata": {},
   "outputs": [],
   "source": [
    "class pageRank():\n",
    "    def __init__(self, G, eps, tol, maxiter):\n",
    "        G = np.array(G)\n",
    "        n = G.shape[0]\n",
    "        if n == 0:\n",
    "            raise ValueError(\"Error: Matrix G has no nodes.\")\n",
    "        for i in range(n): # normalize columns of G\n",
    "            ci = LA.norm(G[:,i], 1)\n",
    "            if ci > 0:\n",
    "                G[:,i] = G[:,i] / ci\n",
    "            else: # adjustment for a column of zeros\n",
    "                G[:,i] = np.ones((n,)) / float(n)\n",
    "        self.G = G # normalized matrix\n",
    "        self.eps = eps # probability of jumping to a link on page\n",
    "        self.size = G.shape[0] # size of matrix\n",
    "        self.tol = tol # tolerance for power method\n",
    "        self.maxiter = maxiter # \n",
    "        \n",
    "    def powermethod(self):\n",
    "        n = self.size\n",
    "        \n",
    "        # Get sparse G (as a list)\n",
    "        \n",
    "        #list of lists of index of nonzero elements in each row\n",
    "        nzre = [np.nonzero(self.G[k,:] > 0)[0] for k in range(n)] \n",
    "        \n",
    "        #list of vectors of nonzero elements in each row\n",
    "        nzv = [self.eps * self.G[k, nzre[k]] for k in range(n)]\n",
    "        \n",
    "        oeps = (1.0 - self.eps) / n\n",
    "        x = np.ones((n,1)) / float(n) # initial vector\n",
    "        \n",
    "        xn1 = LA.norm(x, 1)\n",
    "        ntol = xn1\n",
    "        niter = 0\n",
    "        while ntol > self.tol and niter < self.maxiter :\n",
    "            xold = x       \n",
    "            for k in range(n):\n",
    "                x[k] = nzv[k] @ x[nzre[k]] + oeps\n",
    "                \n",
    "            xn1  = LA.norm(x, 1)\n",
    "            x = x / xn1\n",
    "            ntol = LA.norm(x - xold, 1)\n",
    "            \n",
    "            niter += 1\n",
    "            \n",
    "        return sortPageRank({k:float(v) for (k,v) in zip(range(n), x)})\n",
    "    \n",
    "    def movieRank(self, movieList):\n",
    "        n = self.size\n",
    "        x = LA.solve(identity(n) - self.eps * self.G, (1.0 - self.eps) / n * ones((n, 1)))\n",
    "        \n",
    "        movie_list_sorted = sorted(movieList)\n",
    "        \n",
    "        # tteams = sorted(tourneyteams)\n",
    "        \n",
    "        # stteams = sortPageRank({k:float(x[self.nodes.index(k)]) for k in tteams})\n",
    "        # return stteams, sortPageRank({k:float(v) for (k,v) in zip(self.nodes,x)})\n"
   ]
  },
  {
   "cell_type": "code",
   "execution_count": 68,
   "metadata": {},
   "outputs": [],
   "source": [
    "# Read data from file\n",
    "try:\n",
    "    with open(file, encoding = \"utf-8\") as f:\n",
    "        movies = defaultdict(list)\n",
    "        for line in f:\n",
    "            line = line.strip().split('/')\n",
    "            movie = line[0]\n",
    "            cast = line[1:]\n",
    "            movies[movie].extend(cast)\n",
    "except FileNotFoundError:\n",
    "    raise IOError(f\"Error: Could not find file {file}.\")\n",
    "except ValueError:\n",
    "    raise ValueError(f\"Error: Invalid data in file {file}.\")\n"
   ]
  },
  {
   "cell_type": "code",
   "execution_count": 69,
   "metadata": {},
   "outputs": [
    {
     "name": "stdout",
     "output_type": "stream",
     "text": [
      "Number of movies:  250\n",
      "Number of actors:  14882\n",
      "Example entry:  ('The Prestige (2006)', ['Hugh Jackman', 'Christian Bale', 'Michael Caine', 'Piper Perabo', 'Rebecca Hall', 'Scarlett Johansson', 'Samantha Mahurin', 'David Bowie', 'Andy Serkis', 'Daniel Davis', 'Jim Piddock', 'Christopher Neame', 'Mark Ryan', 'Roger Rees', 'Jamie Harris', 'Monty Stuart', 'Ron Perkins', 'Ricky Jay', 'J. Paul Moore', 'Anthony De Marco', 'Chao Li Chi', 'Gregory Humphreys', 'John B. Crye', 'William Morgan Sheppard', 'Sean Howse', 'Julia Sanford', 'Ezra Buzzington', 'James Lancaster', 'Olivia Merg', 'Zoe Merg', 'Johnny Liska', 'Russ Fega', 'Kevin Will', 'Edward Hibbert', 'Christopher Judges', 'James Otis', 'Sam Menning', 'Brian Tahash', 'Scott Davis', 'Jodi Bianca Wise', 'Nikki Glick', 'Enn Reitel', 'Clive Kennedy', 'Robert W. Arbogast', 'Chris Cleveland', 'Rock Anthony', 'Cathy Beasley', 'Basilina Butler', 'Marty Carroll', 'Erin Cipolletti', 'Ernest Heinz', 'Tim Pilleri', 'Wendy Rosoff', 'Gary Sievers', 'Inna Swann', 'Dawn Upshaw', 'Deanna Walsh', 'Jesse Wilde'])\n"
     ]
    }
   ],
   "source": [
    "print(\"Number of movies: \", len(movies))\n",
    "print(\"Number of actors: \", len(set([a for m in movies for a in movies[m]])))\n",
    "print(\"Example entry: \", list(movies.items())[random.randint(0, len(movies))])"
   ]
  },
  {
   "cell_type": "code",
   "execution_count": 70,
   "metadata": {},
   "outputs": [],
   "source": [
    "G = nx.DiGraph()\n",
    "# iterate through the movies and actors dictionary\n",
    "# add the actors as nodes and the movies as edges"
   ]
  },
  {
   "cell_type": "code",
   "execution_count": 71,
   "metadata": {},
   "outputs": [
    {
     "ename": "ValueError",
     "evalue": "Error: Matrix G has no nodes.",
     "output_type": "error",
     "traceback": [
      "\u001b[1;31m---------------------------------------------------------------------------\u001b[0m",
      "\u001b[1;31mValueError\u001b[0m                                Traceback (most recent call last)",
      "\u001b[1;32m~\\AppData\\Local\\Temp\\ipykernel_15436\\2833634023.py\u001b[0m in \u001b[0;36m<module>\u001b[1;34m\u001b[0m\n\u001b[1;32m----> 1\u001b[1;33m \u001b[0mnetw1\u001b[0m \u001b[1;33m=\u001b[0m \u001b[0mpageRank\u001b[0m\u001b[1;33m(\u001b[0m\u001b[0mG\u001b[0m\u001b[1;33m,\u001b[0m \u001b[1;36m0.15\u001b[0m\u001b[1;33m,\u001b[0m \u001b[1;36m1e-6\u001b[0m\u001b[1;33m,\u001b[0m \u001b[1;36m100\u001b[0m\u001b[1;33m)\u001b[0m\u001b[1;33m\u001b[0m\u001b[1;33m\u001b[0m\u001b[0m\n\u001b[0m\u001b[0;32m      2\u001b[0m \u001b[1;32mfor\u001b[0m \u001b[0mmovie\u001b[0m\u001b[1;33m,\u001b[0m \u001b[0mrank\u001b[0m \u001b[1;32min\u001b[0m \u001b[0mnetw1\u001b[0m\u001b[1;33m.\u001b[0m\u001b[0mpowermethod\u001b[0m\u001b[1;33m(\u001b[0m\u001b[1;33m)\u001b[0m\u001b[1;33m:\u001b[0m\u001b[1;33m\u001b[0m\u001b[1;33m\u001b[0m\u001b[0m\n\u001b[0;32m      3\u001b[0m     \u001b[0mprint\u001b[0m\u001b[1;33m(\u001b[0m\u001b[1;34mf\"{movie}: {rank}\"\u001b[0m\u001b[1;33m)\u001b[0m\u001b[1;33m\u001b[0m\u001b[1;33m\u001b[0m\u001b[0m\n",
      "\u001b[1;32m~\\AppData\\Local\\Temp\\ipykernel_15436\\2240677625.py\u001b[0m in \u001b[0;36m__init__\u001b[1;34m(self, G, eps, tol, maxiter)\u001b[0m\n\u001b[0;32m      4\u001b[0m         \u001b[0mn\u001b[0m \u001b[1;33m=\u001b[0m \u001b[0mG\u001b[0m\u001b[1;33m.\u001b[0m\u001b[0mshape\u001b[0m\u001b[1;33m[\u001b[0m\u001b[1;36m0\u001b[0m\u001b[1;33m]\u001b[0m\u001b[1;33m\u001b[0m\u001b[1;33m\u001b[0m\u001b[0m\n\u001b[0;32m      5\u001b[0m         \u001b[1;32mif\u001b[0m \u001b[0mn\u001b[0m \u001b[1;33m==\u001b[0m \u001b[1;36m0\u001b[0m\u001b[1;33m:\u001b[0m\u001b[1;33m\u001b[0m\u001b[1;33m\u001b[0m\u001b[0m\n\u001b[1;32m----> 6\u001b[1;33m             \u001b[1;32mraise\u001b[0m \u001b[0mValueError\u001b[0m\u001b[1;33m(\u001b[0m\u001b[1;34m\"Error: Matrix G has no nodes.\"\u001b[0m\u001b[1;33m)\u001b[0m\u001b[1;33m\u001b[0m\u001b[1;33m\u001b[0m\u001b[0m\n\u001b[0m\u001b[0;32m      7\u001b[0m         \u001b[1;32mfor\u001b[0m \u001b[0mi\u001b[0m \u001b[1;32min\u001b[0m \u001b[0mrange\u001b[0m\u001b[1;33m(\u001b[0m\u001b[0mn\u001b[0m\u001b[1;33m)\u001b[0m\u001b[1;33m:\u001b[0m \u001b[1;31m# normalize columns of G\u001b[0m\u001b[1;33m\u001b[0m\u001b[1;33m\u001b[0m\u001b[0m\n\u001b[0;32m      8\u001b[0m             \u001b[0mci\u001b[0m \u001b[1;33m=\u001b[0m \u001b[0mLA\u001b[0m\u001b[1;33m.\u001b[0m\u001b[0mnorm\u001b[0m\u001b[1;33m(\u001b[0m\u001b[0mG\u001b[0m\u001b[1;33m[\u001b[0m\u001b[1;33m:\u001b[0m\u001b[1;33m,\u001b[0m\u001b[0mi\u001b[0m\u001b[1;33m]\u001b[0m\u001b[1;33m,\u001b[0m \u001b[1;36m1\u001b[0m\u001b[1;33m)\u001b[0m\u001b[1;33m\u001b[0m\u001b[1;33m\u001b[0m\u001b[0m\n",
      "\u001b[1;31mValueError\u001b[0m: Error: Matrix G has no nodes."
     ]
    }
   ],
   "source": [
    "\n",
    "\n",
    "netw1 = pageRank(G, 0.15, 1e-6, 100)\n",
    "for movie, rank in netw1.powermethod():\n",
    "    print(f\"{movie}: {rank}\")"
   ]
  }
 ],
 "metadata": {
  "kernelspec": {
   "display_name": "base",
   "language": "python",
   "name": "python3"
  },
  "language_info": {
   "codemirror_mode": {
    "name": "ipython",
    "version": 3
   },
   "file_extension": ".py",
   "mimetype": "text/x-python",
   "name": "python",
   "nbconvert_exporter": "python",
   "pygments_lexer": "ipython3",
   "version": "3.9.13"
  },
  "orig_nbformat": 4
 },
 "nbformat": 4,
 "nbformat_minor": 2
}
