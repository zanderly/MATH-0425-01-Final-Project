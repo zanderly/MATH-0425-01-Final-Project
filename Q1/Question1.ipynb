{
 "cells": [
  {
   "cell_type": "code",
   "execution_count": 108,
   "metadata": {},
   "outputs": [],
   "source": [
    "from numpy import linalg as LA\n",
    "from numpy import array, identity, ones, nonzero, zeros, argmax\n",
    "import networkx as nx\n",
    "\n",
    "file = \"top250movies.txt\""
   ]
  },
  {
   "cell_type": "code",
   "execution_count": 109,
   "metadata": {},
   "outputs": [],
   "source": [
    "try:\n",
    "    with open(file, \"r\", encoding = \"utf-8\") as f:\n",
    "        actorDict = {}\n",
    "        lineList = f.readlines()\n",
    "        for line in lineList:\n",
    "            line = line.strip() # remove leading and trailing whitespace\n",
    "            line = line.split(\"/\") # split line into list of strings\n",
    "            actorDict[line[0]] = line[1:] \n",
    "except FileNotFoundError:\n",
    "    raise IOError(f\"Error: Could not find file {file}.\")\n",
    "except ValueError:\n",
    "    raise ValueError(f\"Error: Invalid data in file {file}.\")"
   ]
  },
  {
   "cell_type": "code",
   "execution_count": 110,
   "metadata": {},
   "outputs": [],
   "source": [
    "links = sorted(actorDict)\n",
    "n = len(links)\n",
    "G = zeros((n,n))"
   ]
  },
  {
   "cell_type": "code",
   "execution_count": 111,
   "metadata": {},
   "outputs": [],
   "source": [
    "actorGraph = nx.MultiDiGraph()\n",
    "for actors in actorDict.values():\n",
    "    for i, actor in enumerate(actors):\n",
    "        if i > 0:\n",
    "            cheaperActor = actors[i]\n",
    "            actorGraph.add_edge(cheaperActor, actor)\n",
    "           \n",
    "directedActorGraph = nx.DiGraph()\n",
    "for actors in actorDict.values():\n",
    "    for i, actor in enumerate(actors):\n",
    "        if i > 0:\n",
    "            cheaperActor = actors[i]\n",
    "            directedActorGraph.add_edge(cheaperActor, actor, weight=1)"
   ]
  },
  {
   "cell_type": "code",
   "execution_count": 112,
   "metadata": {},
   "outputs": [
    {
     "name": "stdout",
     "output_type": "stream",
     "text": [
      "Morgan Freeman\n",
      "Bob Gunton\n",
      "William Sadler\n",
      "Clancy Brown\n",
      "Gil Bellows\n",
      "Mark Rolston\n",
      "James Whitmore\n",
      "Jeffrey DeMunn\n",
      "Larry Brandenburg\n",
      "Neil Giuntoli\n"
     ]
    }
   ],
   "source": [
    "# Compute PageRank\n",
    "netw = nx.pagerank(directedActorGraph, alpha=0.85)\n",
    "\n",
    "# Sort PageRank\n",
    "sortedPageRank = sorted(netw.items(), key=lambda x: x[1], reverse=True)\n",
    "\n",
    "for actor in sortedPageRank[:10]:\n",
    "    print(actor[0])"
   ]
  }
 ],
 "metadata": {
  "kernelspec": {
   "display_name": "base",
   "language": "python",
   "name": "python3"
  },
  "language_info": {
   "codemirror_mode": {
    "name": "ipython",
    "version": 3
   },
   "file_extension": ".py",
   "mimetype": "text/x-python",
   "name": "python",
   "nbconvert_exporter": "python",
   "pygments_lexer": "ipython3",
   "version": "3.9.13"
  },
  "orig_nbformat": 4
 },
 "nbformat": 4,
 "nbformat_minor": 2
}
