{
 "cells": [
  {
   "cell_type": "code",
   "execution_count": 29,
   "metadata": {},
   "outputs": [],
   "source": [
    "from numpy import linalg as LA\n",
    "from numpy import array, identity, ones, nonzero, zeros\n",
    "from collections import defaultdict\n",
    "import random\n",
    "\n",
    "from PageRank_module import pageRank\n",
    "\n",
    "file = \"top250movies.txt\""
   ]
  },
  {
   "cell_type": "code",
   "execution_count": 30,
   "metadata": {},
   "outputs": [],
   "source": [
    "try:\n",
    "    with open(file, encoding = \"utf-8\") as f:\n",
    "        movies = defaultdict(list)\n",
    "        for line in f:\n",
    "            line = line.strip().split('/')\n",
    "            movie = line[0]\n",
    "            cast = line[1:]\n",
    "            movies[movie].extend(cast)\n",
    "except FileNotFoundError:\n",
    "    raise IOError(f\"Error: Could not find file {file}.\")\n",
    "except ValueError:\n",
    "    raise ValueError(f\"Error: Invalid data in file {file}.\")\n"
   ]
  },
  {
   "cell_type": "code",
   "execution_count": 31,
   "metadata": {},
   "outputs": [
    {
     "name": "stdout",
     "output_type": "stream",
     "text": [
      "Number of movies:  250\n",
      "Number of actors:  14882\n",
      "Example entry:  ('V for Vendetta (2005)', ['Natalie Portman', 'Hugo Weaving', 'Stephen Rea', 'Stephen Fry', 'John Hurt', 'Tim Pigott-Smith', 'Rupert Graves', 'Roger Allam', 'Ben Miles', 'Sinéad Cusack', 'Natasha Wightman', 'John Standing', 'Eddie Marsan', 'Clive Ashborn', 'Emma Field-Rayner', 'Ian Burfield', 'Mark Phoenix', 'Alister Mazzotti', 'Billie Cook', 'Guy Henry', 'Cosima Shaw', 'Megan Gay', 'Roderic Culver', 'Tara Hacking', 'Andy Rashleigh', 'Chad Stahelski', 'Antje Rau', 'Amelda Brown', 'Richard Campbell', 'Patricia Gannon', 'Mark Longhurst', 'Simon Holmes', 'Charles Cork', 'John Ringham', 'Oliver Bradshaw', 'Jack Schouten', 'Caoimhe Murdock', 'Juliet Howland', 'Brin Rosser', 'Raife Patrick Burchell', 'Joseph Rye', 'Adrian Finighan', 'Malcolm Sinclair', 'Bradley Steve Ford', 'Madeleine Rakic-Platt', 'Selina Giles', 'Carsten Hayes', 'Derek Hutchinson', 'Martin Savage', 'Grant Burgin', 'Greg Donaldson', 'Imogen Poots', 'Jason Griffiths', 'Laura Greenwood', 'Kyra Meyer', 'Paul Antony-Barber', 'Anna Farnworth', 'Mary Stockley', 'Simon Newby', 'David Merheb', 'Daniel Donaldson', 'Dulcie Smart', 'Ben Posener', 'Ian T. Dickinson', 'Sophia New', 'Julie Brown', 'Gerard Gilroy', 'Eamon Geoghegan', 'Matthew Bates', 'David Leitch', 'Matt Wilkinson', 'Martin McGlade', 'Richard Laing', 'Michael Simkins', 'William Tapley', 'Lee Asquith-Coe', 'Paul Bateman', 'Luke Burnyeat', 'Andy Callaghan', 'Tony Cook', 'Mat Curtis', 'Nicolas de Pruyssenaere', 'David Decio', 'Christopher Fosh', 'Gordon Gram', 'Rogan Grant', 'Rami Hilmi', 'David Hood', 'Keith How', 'Forbes KB', 'Edsel Kragg', 'Mathis Landwehr', 'João Costa Menezes', 'Jason Oettle', 'Norman Campbell Rees', 'Peter Ryder', 'Wolfgang Stegemann', 'Jonas von Lingen', 'Chris Wilson'])\n"
     ]
    }
   ],
   "source": [
    "print(\"Number of movies: \", len(movies))\n",
    "print(\"Number of actors: \", len(set([a for m in movies for a in movies[m]])))\n",
    "print(\"Example entry: \", list(movies.items())[random.randint(0, len(movies))])"
   ]
  },
  {
   "cell_type": "code",
   "execution_count": 32,
   "metadata": {},
   "outputs": [],
   "source": [
    "# Create adjacency matrix\n",
    "actors = sorted(set([actor for cast in movies.values() for actor in cast]))\n",
    "n = len(actors)\n",
    "G = zeros((n, n))\n",
    "\n",
    "# Calculate the adjacency matrix\n",
    "for cast in movies.values():\n",
    "    actorsInCast = {actor for actor in cast if actor in actors}\n",
    "    for actor1 in actorsInCast:\n",
    "        for actor2 in actorsInCast:\n",
    "            if actor1 != actor2:\n",
    "                G[actors.index(actor1), actors.index(actor2)] += 1"
   ]
  },
  {
   "cell_type": "code",
   "execution_count": 41,
   "metadata": {},
   "outputs": [],
   "source": [
    "# Compute PageRank\n",
    "netw = pageRank(G, actors, 0.85, 1e-6, 15)\n",
    "prv = netw.linsolve()\n"
   ]
  },
  {
   "cell_type": "code",
   "execution_count": 43,
   "metadata": {},
   "outputs": [
    {
     "name": "stdout",
     "output_type": "stream",
     "text": [
      "Top 10 actors:\n",
      "Hendrik von Bültzingslöwen: ('Ümit Çirak', 6.719526945303047e-05)\n",
      "Hemky Madera: ('Ülkü Duru', 6.719526945303047e-05)\n",
      "Hedda Hopper: ('Øyvind Hagen-Traberg', 6.719526945303048e-05)\n",
      "Henry Rowland: ('Özkan Ugur', 6.719526945303045e-05)\n",
      "Hilary Brown: ('Özgül Arslan', 6.719526945303043e-05)\n",
      "Hikaru Midorikawa: ('Özge Özberk', 6.719526945303043e-05)\n",
      "Melora Harte: ('Íñigo Garcés', 5.9664027041767503e-05)\n",
      "Machiko Washio: ('Émilie Caen', 6.135982699829402e-05)\n",
      "Hanna Hall: ('Éder Júlio Martins', 6.719526945303056e-05)\n",
      "Herbert Nelson: ('Çetin Tekindor', 6.719526945303044e-05)\n",
      "Bottom 10 actors:\n",
      "Declan Geraghty: ('Aakash Dabhade', 7.218628589338038e-05)\n",
      "Dave Courvoisier: ('Aadil', 7.348453282767918e-05)\n",
      "Deirdre Fitzpatrick: ('A.S. Duggal', 7.218628589338036e-05)\n",
      "Shawn Fogarty: ('A.R. Haysel', 4.9671211217788633e-05)\n",
      "Gary Riley: (\"A.J. O'Connor\", 6.788741147545513e-05)\n",
      "Te'ron A. O'Neal: ('A.B. Lane', 4.7146434662615815e-05)\n",
      "Madhav Datt: ('A. Marshal Ward', 6.116786137932241e-05)\n",
      "Francesca Leone: ('A. Cameron Grant', 6.816833992600407e-05)\n",
      "Francesco Clemente: (\"'Snub' Pollard\", 6.816833992600404e-05)\n",
      "Katherine Ringgold: (\"'Little Billy' Rhodes\", 6.314441441304718e-05)\n",
      "Top 10 actors by number of movies:\n",
      "[('John Ratzenberger', 11), ('Sherry Lynn', 10), ('Bess Flowers', 10), ('Joseph Oliveira', 9), ('Robert De Niro', 8), ('Harrison Ford', 8), ('Mickie McGowan', 8), ('Gino Corrado', 8), ('Sam Harris', 8), ('Jan Rabson', 8)]\n"
     ]
    }
   ],
   "source": [
    "# Write the ranked movies to a file\n",
    "rankedActors = sorted(zip(actors, prv), key = lambda x: x[1], reverse = True)\n",
    "\n",
    "print(\"Top 10 actors:\")\n",
    "for actor, rank in rankedActors[:10]:\n",
    "    print(f\"{actor}: {rank}\")\n",
    "    \n",
    "print(\"Bottom 10 actors:\")\n",
    "for actor, rank in rankedActors[-10:]:\n",
    "    print(f\"{actor}: {rank}\")\n",
    "    \n",
    "name_counts = {}\n",
    "\n",
    "for cast in movies.values():\n",
    "    for actor in cast:\n",
    "        if actor in name_counts:\n",
    "            name_counts[actor] += 1\n",
    "        else:\n",
    "            name_counts[actor] = 1\n",
    "print(\"Top 10 actors by number of movies:\")\n",
    "print(sorted(name_counts.items(), key = lambda x: x[1], reverse = True)[:10])\n"
   ]
  }
 ],
 "metadata": {
  "kernelspec": {
   "display_name": "base",
   "language": "python",
   "name": "python3"
  },
  "language_info": {
   "codemirror_mode": {
    "name": "ipython",
    "version": 3
   },
   "file_extension": ".py",
   "mimetype": "text/x-python",
   "name": "python",
   "nbconvert_exporter": "python",
   "pygments_lexer": "ipython3",
   "version": "3.9.13"
  },
  "orig_nbformat": 4
 },
 "nbformat": 4,
 "nbformat_minor": 2
}
