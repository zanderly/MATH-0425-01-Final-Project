{
 "cells": [
  {
   "cell_type": "code",
   "execution_count": 71,
   "metadata": {},
   "outputs": [],
   "source": [
    "import numpy as np\n",
    "from numpy import linalg as LA\n",
    "from imp import reload\n",
    "from numpy import array, identity, ones, nonzero, zeros\n",
    "from numpy import linalg as LA\n",
    "\n",
    "file = \"top250movies.txt\""
   ]
  },
  {
   "cell_type": "code",
   "execution_count": 72,
   "metadata": {},
   "outputs": [],
   "source": [
    "# Read data from file\n",
    "try:\n",
    "    with open(file, encoding=\"utf-8\") as f:\n",
    "        data = {}\n",
    "        for line in f:\n",
    "            line = line.strip().split(\"/\")\n",
    "            movie = line[0]\n",
    "            actors = line[1:]\n",
    "            data[movie] = actors\n",
    "except FileNotFoundError:\n",
    "    raise IOError(f\"Error: Could not find file {file}.\")\n",
    "except ValueError:\n",
    "    raise ValueError(f\"Error: Invalid data in file {file}.\")\n"
   ]
  },
  {
   "cell_type": "code",
   "execution_count": 73,
   "metadata": {},
   "outputs": [],
   "source": [
    "def sortPageRank(prdict):\n",
    "    return sorted(prdict.items(), key = lambda item: item[1], reverse=True)\n"
   ]
  },
  {
   "cell_type": "code",
   "execution_count": 74,
   "metadata": {},
   "outputs": [],
   "source": [
    "class pageRank():\n",
    "    def __init__(self, G, eps, tol, maxiter):\n",
    "        n = G.shape[0]\n",
    "        for i in range(n): # normalize columns of G\n",
    "            ci = LA.norm(G[:,i], 1)\n",
    "            if ci > 0:\n",
    "                G[:,i] = G[:,i] / ci\n",
    "            else: # adjustment for a column of zeros\n",
    "                G[:,i] = np.ones((n,)) / float(n)\n",
    "        self.G = G # normalized matrix\n",
    "        self.eps = eps # probability of jumping to a link on page\n",
    "        self.size = G.shape[0] # size of matrix\n",
    "        self.tol = tol # tolerance for power method\n",
    "        self.maxiter = maxiter # \n",
    "        \n",
    "    def powermethod(self):\n",
    "        n = self.size\n",
    "        \n",
    "        # Get sparse G (as a list)\n",
    "        \n",
    "        #list of lists of index of nonzero elements in each row\n",
    "        nzre = [np.nonzero(self.G[k,:] > 0)[0] for k in range(n)] \n",
    "        \n",
    "        #list of vectors of nonzero elements in each row\n",
    "        nzv = [self.eps * self.G[k, nzre[k]] for k in range(n)]\n",
    "        \n",
    "        oeps = (1.0 - self.eps) / n\n",
    "        x = np.ones((n,1)) / float(n) # initial vector\n",
    "        \n",
    "        xn1 = LA.norm(x, 1)\n",
    "        ntol = xn1\n",
    "        niter = 0\n",
    "        while ntol > self.tol and niter < self.maxiter :\n",
    "            xold = x       \n",
    "            for k in range(n):\n",
    "                x[k] = nzv[k] @ x[nzre[k]] + oeps\n",
    "                \n",
    "            xn1  = LA.norm(x, 1)\n",
    "            x = x / xn1\n",
    "            ntol = LA.norm(x - xold, 1)\n",
    "            \n",
    "            niter += 1\n",
    "            \n",
    "        return sortPageRank({k:float(v) for (k,v) in zip(range(n), x)})\n",
    "    \n",
    "    def movieRank(self, tourneymovies):\n",
    "        n = self.size\n",
    "        x = LA.solve(identity(n)-self.eps*self.G,\\\n",
    "                        (1.0-self.eps)/n*ones((n,1)))\n",
    "        \n",
    "        # Sort movies by PageRank\n",
    "        movie_rankings = sortPageRank({k:float(v) for (k,v) in zip(self.nodes,x)})\n",
    "        \n",
    "        t_movies = [movie.strip() for movie in tourneymovies]\n",
    "        t_rankings = sortPageRank({k:float(x[self.nodes.index(k)]) for k in t_movies})\n",
    "        \n",
    "        return movie_rankings, t_rankings\n"
   ]
  },
  {
   "cell_type": "code",
   "execution_count": 76,
   "metadata": {},
   "outputs": [
    {
     "ename": "SyntaxError",
     "evalue": "invalid syntax (2228515201.py, line 1)",
     "output_type": "error",
     "traceback": [
      "\u001b[1;36m  File \u001b[1;32m\"C:\\Users\\alex\\AppData\\Local\\Temp\\ipykernel_3976\\2228515201.py\"\u001b[1;36m, line \u001b[1;32m1\u001b[0m\n\u001b[1;33m    G = ??? # Construct G adjacency matrix\u001b[0m\n\u001b[1;37m        ^\u001b[0m\n\u001b[1;31mSyntaxError\u001b[0m\u001b[1;31m:\u001b[0m invalid syntax\n"
     ]
    }
   ],
   "source": [
    "G = ??? # Construct G adjacency matrix\n",
    "pr = pageRank(G, 0.15, 1e-6, 1000)\n",
    "movie_rankings = pr.powermethod()\n",
    "movie_rankings_dict = {str(i): rank for i, rank in enumerate(movie_rankings, 1)}\n",
    "sorted_movies = sortPageRank(movie_rankings_dict)\n",
    "\n",
    "for movie, rank in sorted_movies:\n",
    "    print(f\"{movie}: {rank}\")\n"
   ]
  }
 ],
 "metadata": {
  "kernelspec": {
   "display_name": "base",
   "language": "python",
   "name": "python3"
  },
  "language_info": {
   "codemirror_mode": {
    "name": "ipython",
    "version": 3
   },
   "file_extension": ".py",
   "mimetype": "text/x-python",
   "name": "python",
   "nbconvert_exporter": "python",
   "pygments_lexer": "ipython3",
   "version": "3.9.13"
  },
  "orig_nbformat": 4
 },
 "nbformat": 4,
 "nbformat_minor": 2
}
