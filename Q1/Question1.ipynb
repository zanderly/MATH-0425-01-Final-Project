{
 "cells": [
  {
   "cell_type": "code",
   "execution_count": 89,
   "metadata": {},
   "outputs": [],
   "source": [
    "import numpy as np\n",
    "from numpy import linalg as LA\n",
    "from imp import reload\n",
    "from numpy import array, identity, ones, nonzero, zeros\n",
    "from numpy import linalg as LA\n",
    "import networkx as nx\n",
    "from collections import defaultdict\n",
    "import random\n",
    "\n",
    "file = \"top250movies.txt\""
   ]
  },
  {
   "cell_type": "code",
   "execution_count": 90,
   "metadata": {},
   "outputs": [],
   "source": [
    "def sortPageRank(prdict):\n",
    "    return sorted(prdict.items(), key = lambda item: item[1], reverse=True)\n"
   ]
  },
  {
   "cell_type": "code",
   "execution_count": 91,
   "metadata": {},
   "outputs": [],
   "source": [
    "class pageRank():\n",
    "    def __init__(self, G, eps, tol, maxiter):\n",
    "        G = np.array(G)\n",
    "        n = G.shape[0]\n",
    "        if n == 0:\n",
    "            raise ValueError(\"Error: Matrix G has no nodes.\")\n",
    "        for i in range(n): # normalize columns of G\n",
    "            ci = LA.norm(G[:,i], 1)\n",
    "            if ci > 0:\n",
    "                G[:,i] = G[:,i] / ci\n",
    "            else: # adjustment for a column of zeros\n",
    "                G[:,i] = np.ones((n,)) / float(n)\n",
    "        self.G = G # normalized matrix\n",
    "        self.eps = eps # probability of jumping to a link on page\n",
    "        self.size = G.shape[0] # size of matrix\n",
    "        self.tol = tol # tolerance for power method\n",
    "        self.maxiter = maxiter # \n",
    "        self.movies = defaultdict(list) # initialize the movies attribute\n",
    "\n",
    "        \n",
    "    def powermethod(self):\n",
    "        n = self.size\n",
    "        \n",
    "        # Get sparse G (as a list)\n",
    "        \n",
    "        #list of lists of index of nonzero elements in each row\n",
    "        nzre = [np.nonzero(self.G[k,:] > 0)[0] for k in range(n)] \n",
    "        \n",
    "        #list of vectors of nonzero elements in each row\n",
    "        nzv = [self.eps * self.G[k, nzre[k]] for k in range(n)]\n",
    "        \n",
    "        oeps = (1.0 - self.eps) / n\n",
    "        x = np.ones((n,1)) / float(n) # initial vector\n",
    "        \n",
    "        xn1 = LA.norm(x, 1)\n",
    "        ntol = xn1\n",
    "        niter = 0\n",
    "        while ntol > self.tol and niter < self.maxiter :\n",
    "            xold = x       \n",
    "            for k in range(n):\n",
    "                x[k] = nzv[k] @ x[nzre[k]] + oeps\n",
    "                \n",
    "            xn1  = LA.norm(x, 1)\n",
    "            x = x / xn1\n",
    "            ntol = LA.norm(x - xold, 1)\n",
    "            \n",
    "            niter += 1\n",
    "            \n",
    "        return sortPageRank({k:float(v) for (k,v) in zip(range(n), x)})\n",
    "    \n",
    "    def movieRank(self):\n",
    "        # Flatten the list of actors and remove duplicates\n",
    "        actor_list = list(set([a for m in self.movies.values() for a in m]))\n",
    "        actor_list_sorted = sorted(actor_list)\n",
    "        \n",
    "        # Create the adjacency matrix for the actor network\n",
    "        n = len(actor_list)\n",
    "        if n == 0:\n",
    "            return []\n",
    "        G = zeros((n, n))\n",
    "        for m in self.movies.values():\n",
    "            for i, a1 in enumerate(m):\n",
    "                if a1 in actor_list:\n",
    "                    for a2 in m[i+1:]:\n",
    "                        if a2 in actor_list and a1 != a2:\n",
    "                            G[actor_list.index(a2), actor_list.index(a1)] += 1\n",
    "        \n",
    "        # Compute the PageRank vector\n",
    "        x = LA.solve(identity(n) - self.eps * G, (1.0 - self.eps) / n * ones((n, 1)))\n",
    "        \n",
    "        # Sort the actors by PageRank\n",
    "        actor_ranked = sortPageRank({actor_list_sorted[i]: float(x[i]) for i in range(n)})\n",
    "        \n",
    "        return actor_ranked"
   ]
  },
  {
   "cell_type": "code",
   "execution_count": 92,
   "metadata": {},
   "outputs": [],
   "source": [
    "try:\n",
    "    with open(file, encoding = \"utf-8\") as f:\n",
    "        movies = defaultdict(list)\n",
    "        for line in f:\n",
    "            line = line.strip().split('/')\n",
    "            movie = line[0]\n",
    "            cast = line[1:]\n",
    "            movies[movie].extend(cast)\n",
    "except FileNotFoundError:\n",
    "    raise IOError(f\"Error: Could not find file {file}.\")\n",
    "except ValueError:\n",
    "    raise ValueError(f\"Error: Invalid data in file {file}.\")\n"
   ]
  },
  {
   "cell_type": "code",
   "execution_count": 93,
   "metadata": {},
   "outputs": [
    {
     "name": "stdout",
     "output_type": "stream",
     "text": [
      "Number of movies:  250\n",
      "Number of actors:  14882\n",
      "Example entry:  ('The Dark Knight (2008)', ['Christian Bale', 'Heath Ledger', 'Aaron Eckhart', 'Michael Caine', 'Maggie Gyllenhaal', 'Gary Oldman', 'Morgan Freeman', 'Monique Gabriela Curnen', 'Ron Dean', 'Cillian Murphy', 'Chin Han', 'Nestor Carbonell', 'Eric Roberts', 'Ritchie Coster', 'Anthony Michael Hall', 'Keith Szarabajka', 'Colin McFarlane', 'Joshua Harto', 'Melinda McGraw', 'Nathan Gamble', 'Michael Vieau', 'Michael Stoyanov', 'William Smillie', 'Danny Goldring', 'Michael Jai White', \"Matthew O'Neill\", 'William Fichtner', 'Olumiji Olawumi', 'Greg Beam', 'Erik Hellman', 'Beatrice Rosen', 'Vincenzo Nicoli', 'Edison Chen', 'Nydia Rodriguez Terracina', 'Andy Luther', 'James Farruggio', 'Tom McElroy', 'Will Zahrn', 'James Fierro', 'Patrick Leahy', 'Sam Derence', 'Jennifer Knox', 'Patrick Clear', 'Sarah Jayne Dunn', 'Charles Venn', 'Winston Ellis', 'David Dastmalchian', 'Sophia Hinshelwood', 'Keith Kupferer', 'Joseph Luis Caballero', 'Richard Dillane', 'Daryl Satcher', 'Chris Petschler', 'Aidan Feore', 'Philip Bulcock', 'Paul Birchard', 'Walter Lewis', 'Vincent Riotta', 'Nancy Crane', 'K. Todd Freeman', 'Matt Shallenberger', 'Michael Andrew Gorman', 'Lanny Lutz', 'Peter DeFaria', 'Matt Rippy', 'Andrew Bicknell', 'Ariyon Bakare', 'Doug Ballard', 'Helene Maksoud', 'Tommy Campbell', 'Craig Heaney', 'Lorna Gayle', 'Lisa McAllister', 'Peter Brooke', 'Joshua Rollins', 'Dale Rivera', 'Matthew Leitch', \"Tommy 'Tiny' Lister\", 'Thomas Gaitsch', 'Bill Armstrong', 'Adam Kalesperis', 'Tristan Tait', 'Bronson Webb', 'David Ajala', 'Gertrude Mosley', 'Jonathan Ryland', 'James Scales', 'Nigel Carrington', 'Ian Pirie', 'Lateef Lovejoy', 'Grahame Edwards', 'Roger Monk', 'Ronan Summers', 'Wai Wong', 'Michael Corey Foster', 'Hannah Gunn', 'Brandon Lambdin', 'Jeff Albertson', 'Tracy L. Aldaz', 'Matthew W. Allen', 'Stephen Armourae', 'Alisa Azpeitia', 'Mike Bach', 'Wayne Baker', 'Martin Ballantyne', 'Tommy Bartlett', 'Paul Bateman', 'Blayne Bennett', 'Craig Braginsky', 'Jon Lee Brody', 'Douglas Bunn', 'Debbi Burns', 'Luke Burnyeat', 'Maritza Cabrera', 'Shirin Caiola', 'Fabrice Calmels', 'Josh Chapman', 'Laura Chernicky', 'Matt Cho', 'Henry Milton Chu', 'Rob Clark', 'Kelli Clevenger', 'David Cosey', 'Rachel Daugherty', 'Bruce Allen Dawson', 'Danielle Day', 'Richard Divizio', 'Tony Domino', 'Jessica Doyle', 'Laine Edwards', 'R. Michael Egan', 'David William James Elliott', 'Dan Evashevski', 'Gene Fojtik', 'Reese Foster', 'Jason Frederick', 'Jason Fuller', 'Darren Elliot Fulsher', 'David Fultz', 'Scott Ganyo', 'Marisol Giraud', 'Tim Glanfield', 'Dan Gossen', 'Sharlene Grover', 'Natalie Hallam', 'Thomas Hartmann', 'Alexander Hathaway', 'Jordon Hodges', 'John Hoving', 'Sean Hynes', 'Bill Ibrahim', 'Gerard Jamroz', 'Charles Jarman', 'Erron Jay', 'Daniel Jefferson', 'Ramses Jimenez', 'Will Jones', 'Bob Kaliebe', 'Nicky Katt', 'Mark Keiser', 'Charlie Kierscht', 'Thomas Kosik', 'Don Kress', 'Ryan Kross', 'Tim Krueger', 'Michael Kuster', 'Dan Latham', 'Joseph Lazicki', 'Donovan Leitch Jr.', 'David Lesley', 'Emily Lineham', 'Deborah Lynn', 'Noelle Lynn', 'Jonathan Macchi', 'Al Marchesi', 'J.R. Martino', 'Joseph Mazurk', 'Tom McComas', 'Krista McEnany', 'Ryan McGonagle', 'James Mellor', 'Denise Meyer Kennell', 'Joseph Nelson', 'Joseph Oliveira', 'Sal Ozbay', 'Christopher Pastenes', 'Libby Pedersen', 'Greg Peterson', 'Ernest Pierce', 'Kevin Pitcairn', 'Rory Plante', 'Pek Pongpaet', 'Charles Query', 'Marc Radz', 'Buster Reeves', 'Sara Ritz', 'Peter Rnic', 'Gary Ryder', 'Kelly Saindon', 'Elisa Schleef', 'Greg Schweiner', 'Jan Seybold', 'Amit Shah', 'Vivek Shah', 'Michelle Shields', 'Tina Simmons', 'Sofiya Smirnova', 'John Snowden', 'Lorea Solabarrieta', 'Dwight Sora', 'Bruce Spielbauer', 'January Stern', 'Robert Patrick Stern', 'Jordan Stone', 'Robert Stone', 'Richard Strobel', 'Albert Tang', 'Jim Templar', 'Chris D. Thomas', 'John Thurner', 'Tinnie Tong', 'Tom Townsend', 'Chuen Tsou', 'John Turk', 'James Warfield', 'John Warman', 'Joel Wasserman', 'Mike Whyte', 'Chris Wilson', 'Lisa Wolf', 'Debi Wollitzer', 'Essa Zahir', 'Kevin Zaideman'])\n"
     ]
    }
   ],
   "source": [
    "print(\"Number of movies: \", len(movies))\n",
    "print(\"Number of actors: \", len(set([a for m in movies for a in movies[m]])))\n",
    "print(\"Example entry: \", list(movies.items())[random.randint(0, len(movies))])"
   ]
  },
  {
   "cell_type": "code",
   "execution_count": 94,
   "metadata": {},
   "outputs": [],
   "source": [
    "# Create adjacency matrix\n",
    "actors = sorted(set([actor for cast in movies.values() for actor in cast]))\n",
    "n = len(actors)\n",
    "A = np.zeros((n, n))\n",
    "\n",
    "for cast in movies.values():\n",
    "    for i, actor1 in enumerate(cast):\n",
    "        if i == 0:\n",
    "            continue\n",
    "        else: \n",
    "            for j, actor2 in enumerate(cast[:i]):\n",
    "                if actor1 != actor2:\n",
    "                    A[actors.index(actor1), actors.index(actor2)] += 1\n"
   ]
  },
  {
   "cell_type": "code",
   "execution_count": 95,
   "metadata": {},
   "outputs": [
    {
     "name": "stdout",
     "output_type": "stream",
     "text": [
      "Top 10 actors by PageRank:\n"
     ]
    },
    {
     "ename": "ZeroDivisionError",
     "evalue": "float division by zero",
     "output_type": "error",
     "traceback": [
      "\u001b[1;31m---------------------------------------------------------------------------\u001b[0m",
      "\u001b[1;31mZeroDivisionError\u001b[0m                         Traceback (most recent call last)",
      "\u001b[1;32m~\\AppData\\Local\\Temp\\ipykernel_8128\\776895352.py\u001b[0m in \u001b[0;36m<module>\u001b[1;34m\u001b[0m\n\u001b[0;32m      2\u001b[0m \u001b[0mnetw\u001b[0m \u001b[1;33m=\u001b[0m \u001b[0mpageRank\u001b[0m\u001b[1;33m(\u001b[0m\u001b[0mA\u001b[0m\u001b[1;33m,\u001b[0m\u001b[1;36m0.85\u001b[0m\u001b[1;33m,\u001b[0m\u001b[1;36m1e-15\u001b[0m\u001b[1;33m,\u001b[0m\u001b[1;36m15\u001b[0m\u001b[1;33m)\u001b[0m\u001b[1;33m\u001b[0m\u001b[1;33m\u001b[0m\u001b[0m\n\u001b[0;32m      3\u001b[0m \u001b[0mprint\u001b[0m\u001b[1;33m(\u001b[0m\u001b[1;34m\"Top 10 actors by PageRank:\"\u001b[0m\u001b[1;33m)\u001b[0m\u001b[1;33m\u001b[0m\u001b[1;33m\u001b[0m\u001b[0m\n\u001b[1;32m----> 4\u001b[1;33m \u001b[0mprint\u001b[0m\u001b[1;33m(\u001b[0m\u001b[0mnetw\u001b[0m\u001b[1;33m.\u001b[0m\u001b[0mmovieRank\u001b[0m\u001b[1;33m(\u001b[0m\u001b[1;33m)\u001b[0m\u001b[1;33m[\u001b[0m\u001b[1;33m:\u001b[0m\u001b[1;36m10\u001b[0m\u001b[1;33m]\u001b[0m\u001b[1;33m)\u001b[0m\u001b[1;33m\u001b[0m\u001b[1;33m\u001b[0m\u001b[0m\n\u001b[0m\u001b[0;32m      5\u001b[0m \u001b[1;33m\u001b[0m\u001b[0m\n\u001b[0;32m      6\u001b[0m \u001b[1;31m# Write the ranked movies to a file\u001b[0m\u001b[1;33m\u001b[0m\u001b[1;33m\u001b[0m\u001b[0m\n",
      "\u001b[1;32m~\\AppData\\Local\\Temp\\ipykernel_8128\\730304859.py\u001b[0m in \u001b[0;36mmovieRank\u001b[1;34m(self)\u001b[0m\n\u001b[0;32m     65\u001b[0m \u001b[1;33m\u001b[0m\u001b[0m\n\u001b[0;32m     66\u001b[0m         \u001b[1;31m# Compute the PageRank vector\u001b[0m\u001b[1;33m\u001b[0m\u001b[1;33m\u001b[0m\u001b[0m\n\u001b[1;32m---> 67\u001b[1;33m         \u001b[0mx\u001b[0m \u001b[1;33m=\u001b[0m \u001b[0mLA\u001b[0m\u001b[1;33m.\u001b[0m\u001b[0msolve\u001b[0m\u001b[1;33m(\u001b[0m\u001b[0midentity\u001b[0m\u001b[1;33m(\u001b[0m\u001b[0mn\u001b[0m\u001b[1;33m)\u001b[0m \u001b[1;33m-\u001b[0m \u001b[0mself\u001b[0m\u001b[1;33m.\u001b[0m\u001b[0meps\u001b[0m \u001b[1;33m*\u001b[0m \u001b[0mG\u001b[0m\u001b[1;33m,\u001b[0m \u001b[1;33m(\u001b[0m\u001b[1;36m1.0\u001b[0m \u001b[1;33m-\u001b[0m \u001b[0mself\u001b[0m\u001b[1;33m.\u001b[0m\u001b[0meps\u001b[0m\u001b[1;33m)\u001b[0m \u001b[1;33m/\u001b[0m \u001b[0mn\u001b[0m \u001b[1;33m*\u001b[0m \u001b[0mones\u001b[0m\u001b[1;33m(\u001b[0m\u001b[1;33m(\u001b[0m\u001b[0mn\u001b[0m\u001b[1;33m,\u001b[0m \u001b[1;36m1\u001b[0m\u001b[1;33m)\u001b[0m\u001b[1;33m)\u001b[0m\u001b[1;33m)\u001b[0m\u001b[1;33m\u001b[0m\u001b[1;33m\u001b[0m\u001b[0m\n\u001b[0m\u001b[0;32m     68\u001b[0m \u001b[1;33m\u001b[0m\u001b[0m\n\u001b[0;32m     69\u001b[0m         \u001b[1;31m# Sort the actors by PageRank\u001b[0m\u001b[1;33m\u001b[0m\u001b[1;33m\u001b[0m\u001b[0m\n",
      "\u001b[1;31mZeroDivisionError\u001b[0m: float division by zero"
     ]
    }
   ],
   "source": [
    "# Compute PageRank\n",
    "netw = pageRank(A,0.85,1e-15,15)\n",
    "print(\"Top 10 actors by PageRank:\")\n",
    "print(netw.movieRank()[:10])\n",
    "\n",
    "# Write the ranked movies to a file\n",
    "with open(\"rankedMovies.txt\", \"w\") as f:\n",
    "    for movie, score in netw.movieRank():\n",
    "        f.write(f\"{movie}: {score}\\n\")"
   ]
  },
  {
   "cell_type": "code",
   "execution_count": null,
   "metadata": {},
   "outputs": [],
   "source": [
    "# Print ranked actors\n",
    "ranked_actors = [actors[i] for i in np.argsort(prv)[::-1]]\n",
    "print(ranked_actors)"
   ]
  }
 ],
 "metadata": {
  "kernelspec": {
   "display_name": "base",
   "language": "python",
   "name": "python3"
  },
  "language_info": {
   "codemirror_mode": {
    "name": "ipython",
    "version": 3
   },
   "file_extension": ".py",
   "mimetype": "text/x-python",
   "name": "python",
   "nbconvert_exporter": "python",
   "pygments_lexer": "ipython3",
   "version": "3.9.13"
  },
  "orig_nbformat": 4
 },
 "nbformat": 4,
 "nbformat_minor": 2
}
