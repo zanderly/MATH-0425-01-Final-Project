{
 "cells": [
  {
   "cell_type": "code",
   "execution_count": 3,
   "id": "bde513bd",
   "metadata": {},
   "outputs": [],
   "source": [
    "from numpy import *\n",
    "import numpy as np"
   ]
  },
  {
   "cell_type": "code",
   "execution_count": 4,
   "id": "43a5d53d",
   "metadata": {},
   "outputs": [],
   "source": [
    "import os\n",
    "# os.chdir('/usr daniel')"
   ]
  },
  {
   "cell_type": "code",
   "execution_count": 5,
   "id": "18f1a444",
   "metadata": {},
   "outputs": [
    {
     "ename": "FileNotFoundError",
     "evalue": "[Errno 2] No such file or directory: 'trainingSet.npy'",
     "output_type": "error",
     "traceback": [
      "\u001b[0;31m---------------------------------------------------------------------------\u001b[0m",
      "\u001b[0;31mFileNotFoundError\u001b[0m                         Traceback (most recent call last)",
      "Cell \u001b[0;32mIn[5], line 20\u001b[0m\n\u001b[1;32m      1\u001b[0m \u001b[39m\"\"\"\u001b[39;00m\n\u001b[1;32m      2\u001b[0m \u001b[39mdigit0 = np.load(\"singleDigit0_0.npy\")\u001b[39;00m\n\u001b[1;32m      3\u001b[0m \u001b[39mboop0 = np.reshape(digit0, (20,20))\u001b[39;00m\n\u001b[0;32m   (...)\u001b[0m\n\u001b[1;32m     16\u001b[0m \u001b[39mtest_svdList = test_matrix.singular_values()\u001b[39;00m\n\u001b[1;32m     17\u001b[0m \u001b[39m\"\"\"\u001b[39;00m\n\u001b[0;32m---> 20\u001b[0m data \u001b[39m=\u001b[39m np\u001b[39m.\u001b[39;49mload(\u001b[39m\"\u001b[39;49m\u001b[39mtrainingSet.npy\u001b[39;49m\u001b[39m\"\u001b[39;49m)\n\u001b[1;32m     22\u001b[0m fullList \u001b[39m=\u001b[39m []\n\u001b[1;32m     24\u001b[0m \u001b[39mfor\u001b[39;00m i \u001b[39min\u001b[39;00m \u001b[39mrange\u001b[39m(\u001b[39m10\u001b[39m):\n",
      "File \u001b[0;32m~/Documents/GitHub/MATH-0425-01-Final-Project/.conda/lib/python3.10/site-packages/numpy/lib/npyio.py:405\u001b[0m, in \u001b[0;36mload\u001b[0;34m(file, mmap_mode, allow_pickle, fix_imports, encoding, max_header_size)\u001b[0m\n\u001b[1;32m    403\u001b[0m     own_fid \u001b[39m=\u001b[39m \u001b[39mFalse\u001b[39;00m\n\u001b[1;32m    404\u001b[0m \u001b[39melse\u001b[39;00m:\n\u001b[0;32m--> 405\u001b[0m     fid \u001b[39m=\u001b[39m stack\u001b[39m.\u001b[39menter_context(\u001b[39mopen\u001b[39;49m(os_fspath(file), \u001b[39m\"\u001b[39;49m\u001b[39mrb\u001b[39;49m\u001b[39m\"\u001b[39;49m))\n\u001b[1;32m    406\u001b[0m     own_fid \u001b[39m=\u001b[39m \u001b[39mTrue\u001b[39;00m\n\u001b[1;32m    408\u001b[0m \u001b[39m# Code to distinguish from NumPy binary files and pickles.\u001b[39;00m\n",
      "\u001b[0;31mFileNotFoundError\u001b[0m: [Errno 2] No such file or directory: 'trainingSet.npy'"
     ]
    }
   ],
   "source": [
    "\"\"\"\n",
    "digit0 = np.load(\"singleDigit0_0.npy\")\n",
    "boop0 = np.reshape(digit0, (20,20))\n",
    "\n",
    "tr_matrix = Matrix(boop0)\n",
    "\n",
    "tr_svdList = tr_matrix.singular_values()\n",
    "\n",
    "totalSVD = tr_matrix.singular_value_decomposition()\n",
    "\n",
    "testDigit0 = np.load(\"testSingleDigit0_7.npy\")\n",
    "testBoop0 = np.reshape(testDigit0, (20,20))\n",
    "\n",
    "test_matrix = Matrix(testBoop0)\n",
    "\n",
    "test_svdList = test_matrix.singular_values()\n",
    "\"\"\"\n",
    "\n",
    "\n",
    "data = np.load(\"trainingSet.npy\")\n",
    "\n",
    "fullList = []\n",
    "\n",
    "for i in range(10):\n",
    "    setOfDigits = []\n",
    "    for j in range(400*i, 400*i + 400):\n",
    "        vectorToMatrix = np.reshape(data[j], (20,20))\n",
    "        vectorToMatrix = np.array(vectorToMatrix)\n",
    "        \n",
    "        #reflecting the numbers along x-axis and then rotating 270 counterclockwise\n",
    "        #so that numbers are in their natural orientation\n",
    "        #vectorToMatrix = np.rot90(np.array(vectorToMatrix)[::-1],3)\n",
    "        \n",
    "        #reflecting the numbers along x-axis\n",
    "        #vectorToMatrix = np.array(vectorToMatrix)[::-1]\n",
    "        setOfDigits.append(vectorToMatrix)\n",
    "    fullList.append(setOfDigits)\n",
    "    \n",
    "#i.e.\n",
    "#fullList = [[400 20x20 matrices representing the original vectors representing the digit 0], \n",
    "#            [400 20x20 matrices representing the original vectors representing the digit 1],\n",
    "#            [400 20x20 matrices representing the original vectors representing the digit 2],\n",
    "#            ... , \n",
    "#            [400 20x20 matrices representing the original vectors representing the digit 9]]\n",
    "\n",
    "svdList = [[np.linalg.svd(vectorMatrix,full_matrices=True) for vectorMatrix in setOfDigits] for setOfDigits in fullList]\n",
    "\n",
    "sampleA = np.array([[1,1,0],[0,1,1]])\n",
    "u,s,vh = np.linalg.svd(sampleA, full_matrices=False, compute_uv=True)"
   ]
  },
  {
   "cell_type": "code",
   "execution_count": null,
   "id": "74f11041",
   "metadata": {},
   "outputs": [],
   "source": []
  }
 ],
 "metadata": {
  "kernelspec": {
   "display_name": "Python 3 (ipykernel)",
   "language": "python",
   "name": "python3"
  },
  "language_info": {
   "codemirror_mode": {
    "name": "ipython",
    "version": 3
   },
   "file_extension": ".py",
   "mimetype": "text/x-python",
   "name": "python",
   "nbconvert_exporter": "python",
   "pygments_lexer": "ipython3",
   "version": "3.10.11"
  }
 },
 "nbformat": 4,
 "nbformat_minor": 5
}
