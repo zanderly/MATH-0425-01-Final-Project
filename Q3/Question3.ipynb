{
 "cells": [
  {
   "cell_type": "code",
   "execution_count": 4,
   "id": "bde513bd",
   "metadata": {},
   "outputs": [
    {
     "ename": "ModuleNotFoundError",
     "evalue": "No module named 'numpy'",
     "output_type": "error",
     "traceback": [
      "\u001b[1;31m---------------------------------------------------------------------------\u001b[0m",
      "\u001b[1;31mModuleNotFoundError\u001b[0m                       Traceback (most recent call last)",
      "Cell \u001b[1;32mIn[4], line 1\u001b[0m\n\u001b[1;32m----> 1\u001b[0m \u001b[39mfrom\u001b[39;00m \u001b[39mnumpy\u001b[39;00m \u001b[39mimport\u001b[39;00m \u001b[39m*\u001b[39m\n\u001b[0;32m      2\u001b[0m \u001b[39mimport\u001b[39;00m \u001b[39mnumpy\u001b[39;00m \u001b[39mas\u001b[39;00m \u001b[39mnp\u001b[39;00m\n",
      "\u001b[1;31mModuleNotFoundError\u001b[0m: No module named 'numpy'"
     ]
    }
   ],
   "source": [
    "from numpy import *\n",
    "import numpy as np"
   ]
  },
  {
   "cell_type": "code",
   "execution_count": null,
   "id": "43a5d53d",
   "metadata": {},
   "outputs": [],
   "source": [
    "import os\n",
    "# os.chdir('/usr daniel')"
   ]
  },
  {
   "cell_type": "code",
   "execution_count": null,
   "id": "18f1a444",
   "metadata": {},
   "outputs": [
    {
     "ename": "FileNotFoundError",
     "evalue": "[Errno 2] No such file or directory: 'trainingSet.npy'",
     "output_type": "error",
     "traceback": [
      "\u001b[1;31m---------------------------------------------------------------------------\u001b[0m",
      "\u001b[1;31mFileNotFoundError\u001b[0m                         Traceback (most recent call last)",
      "\u001b[1;32m~\\AppData\\Local\\Temp\\ipykernel_980\\298580233.py\u001b[0m in \u001b[0;36m<module>\u001b[1;34m\u001b[0m\n\u001b[0;32m     18\u001b[0m \u001b[1;33m\u001b[0m\u001b[0m\n\u001b[0;32m     19\u001b[0m \u001b[1;33m\u001b[0m\u001b[0m\n\u001b[1;32m---> 20\u001b[1;33m \u001b[0mdata\u001b[0m \u001b[1;33m=\u001b[0m \u001b[0mnp\u001b[0m\u001b[1;33m.\u001b[0m\u001b[0mload\u001b[0m\u001b[1;33m(\u001b[0m\u001b[1;34m\"trainingSet.npy\"\u001b[0m\u001b[1;33m)\u001b[0m\u001b[1;33m\u001b[0m\u001b[1;33m\u001b[0m\u001b[0m\n\u001b[0m\u001b[0;32m     21\u001b[0m \u001b[1;33m\u001b[0m\u001b[0m\n\u001b[0;32m     22\u001b[0m \u001b[0mfullList\u001b[0m \u001b[1;33m=\u001b[0m \u001b[1;33m[\u001b[0m\u001b[1;33m]\u001b[0m\u001b[1;33m\u001b[0m\u001b[1;33m\u001b[0m\u001b[0m\n",
      "\u001b[1;32mc:\\Users\\alex\\anaconda3\\lib\\site-packages\\numpy\\lib\\npyio.py\u001b[0m in \u001b[0;36mload\u001b[1;34m(file, mmap_mode, allow_pickle, fix_imports, encoding)\u001b[0m\n\u001b[0;32m    415\u001b[0m             \u001b[0mown_fid\u001b[0m \u001b[1;33m=\u001b[0m \u001b[1;32mFalse\u001b[0m\u001b[1;33m\u001b[0m\u001b[1;33m\u001b[0m\u001b[0m\n\u001b[0;32m    416\u001b[0m         \u001b[1;32melse\u001b[0m\u001b[1;33m:\u001b[0m\u001b[1;33m\u001b[0m\u001b[1;33m\u001b[0m\u001b[0m\n\u001b[1;32m--> 417\u001b[1;33m             \u001b[0mfid\u001b[0m \u001b[1;33m=\u001b[0m \u001b[0mstack\u001b[0m\u001b[1;33m.\u001b[0m\u001b[0menter_context\u001b[0m\u001b[1;33m(\u001b[0m\u001b[0mopen\u001b[0m\u001b[1;33m(\u001b[0m\u001b[0mos_fspath\u001b[0m\u001b[1;33m(\u001b[0m\u001b[0mfile\u001b[0m\u001b[1;33m)\u001b[0m\u001b[1;33m,\u001b[0m \u001b[1;34m\"rb\"\u001b[0m\u001b[1;33m)\u001b[0m\u001b[1;33m)\u001b[0m\u001b[1;33m\u001b[0m\u001b[1;33m\u001b[0m\u001b[0m\n\u001b[0m\u001b[0;32m    418\u001b[0m             \u001b[0mown_fid\u001b[0m \u001b[1;33m=\u001b[0m \u001b[1;32mTrue\u001b[0m\u001b[1;33m\u001b[0m\u001b[1;33m\u001b[0m\u001b[0m\n\u001b[0;32m    419\u001b[0m \u001b[1;33m\u001b[0m\u001b[0m\n",
      "\u001b[1;31mFileNotFoundError\u001b[0m: [Errno 2] No such file or directory: 'trainingSet.npy'"
     ]
    }
   ],
   "source": [
    "\"\"\"\n",
    "digit0 = np.load(\"singleDigit0_0.npy\")\n",
    "boop0 = np.reshape(digit0, (20,20))\n",
    "\n",
    "tr_matrix = Matrix(boop0)\n",
    "\n",
    "tr_svdList = tr_matrix.singular_values()\n",
    "\n",
    "totalSVD = tr_matrix.singular_value_decomposition()\n",
    "\n",
    "testDigit0 = np.load(\"testSingleDigit0_7.npy\")\n",
    "testBoop0 = np.reshape(testDigit0, (20,20))\n",
    "\n",
    "test_matrix = Matrix(testBoop0)\n",
    "\n",
    "test_svdList = test_matrix.singular_values()\n",
    "\"\"\"\n",
    "\n",
    "\n",
    "data = np.load(\"trainingSet.npy\")\n",
    "\n",
    "fullList = []\n",
    "\n",
    "for i in range(10):\n",
    "    setOfDigits = []\n",
    "    for j in range(400*i, 400*i + 400):\n",
    "        vectorToMatrix = np.reshape(data[j], (20,20))\n",
    "        vectorToMatrix = np.array(vectorToMatrix)\n",
    "        \n",
    "        #reflecting the numbers along x-axis and then rotating 270 counterclockwise\n",
    "        #so that numbers are in their natural orientation\n",
    "        #vectorToMatrix = np.rot90(np.array(vectorToMatrix)[::-1],3)\n",
    "        \n",
    "        #reflecting the numbers along x-axis\n",
    "        #vectorToMatrix = np.array(vectorToMatrix)[::-1]\n",
    "        setOfDigits.append(vectorToMatrix)\n",
    "    fullList.append(setOfDigits)\n",
    "    \n",
    "#i.e.\n",
    "#fullList = [[400 20x20 matrices representing the original vectors representing the digit 0], \n",
    "#            [400 20x20 matrices representing the original vectors representing the digit 1],\n",
    "#            [400 20x20 matrices representing the original vectors representing the digit 2],\n",
    "#            ... , \n",
    "#            [400 20x20 matrices representing the original vectors representing the digit 9]]\n",
    "\n",
    "svdList = [[np.linalg.svd(vectorMatrix,full_matrices=True) for vectorMatrix in setOfDigits] for setOfDigits in fullList]\n",
    "\n",
    "sampleA = np.array([[1,1,0],[0,1,1]])\n",
    "u,s,vh = np.linalg.svd(sampleA, full_matrices=False, compute_uv=True)"
   ]
  },
  {
   "cell_type": "code",
   "execution_count": null,
   "id": "74f11041",
   "metadata": {},
   "outputs": [],
   "source": []
  }
 ],
 "metadata": {
  "kernelspec": {
   "display_name": "Python 3 (ipykernel)",
   "language": "python",
   "name": "python3"
  },
  "language_info": {
   "codemirror_mode": {
    "name": "ipython",
    "version": 3
   },
   "file_extension": ".py",
   "mimetype": "text/x-python",
   "name": "python",
   "nbconvert_exporter": "python",
   "pygments_lexer": "ipython3",
   "version": "3.10.11"
  }
 },
 "nbformat": 4,
 "nbformat_minor": 5
}
