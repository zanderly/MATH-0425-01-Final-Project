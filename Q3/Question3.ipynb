{
 "cells": [
  {
   "cell_type": "code",
   "execution_count": 1,
   "id": "bde513bd",
   "metadata": {},
   "outputs": [],
   "source": [
    "from numpy import *\n",
    "import numpy as np\n"
   ]
  },
  {
   "cell_type": "code",
   "execution_count": 2,
   "id": "43a5d53d",
   "metadata": {},
   "outputs": [
    {
     "ename": "FileNotFoundError",
     "evalue": "[Errno 2] No such file or directory: '/usr daniel'",
     "output_type": "error",
     "traceback": [
      "\u001b[0;31m---------------------------------------------------------------------------\u001b[0m",
      "\u001b[0;31mFileNotFoundError\u001b[0m                         Traceback (most recent call last)",
      "Cell \u001b[0;32mIn[2], line 2\u001b[0m\n\u001b[1;32m      1\u001b[0m \u001b[39mimport\u001b[39;00m \u001b[39mos\u001b[39;00m\n\u001b[0;32m----> 2\u001b[0m os\u001b[39m.\u001b[39;49mchdir(\u001b[39m'\u001b[39;49m\u001b[39m/usr daniel\u001b[39;49m\u001b[39m'\u001b[39;49m)\n",
      "\u001b[0;31mFileNotFoundError\u001b[0m: [Errno 2] No such file or directory: '/usr daniel'"
     ]
    }
   ],
   "source": [
    "import os\n",
    "# os.chdir('/usr daniel')"
   ]
  },
  {
   "cell_type": "code",
   "execution_count": null,
   "id": "18f1a444",
   "metadata": {},
   "outputs": [],
   "source": [
    "\"\"\"\n",
    "digit0 = np.load(\"singleDigit0_0.npy\")\n",
    "boop0 = np.reshape(digit0, (20,20))\n",
    "\n",
    "tr_matrix = Matrix(boop0)\n",
    "\n",
    "tr_svdList = tr_matrix.singular_values()\n",
    "\n",
    "totalSVD = tr_matrix.singular_value_decomposition()\n",
    "\n",
    "testDigit0 = np.load(\"testSingleDigit0_7.npy\")\n",
    "testBoop0 = np.reshape(testDigit0, (20,20))\n",
    "\n",
    "test_matrix = Matrix(testBoop0)\n",
    "\n",
    "test_svdList = test_matrix.singular_values()\n",
    "\"\"\"\n",
    "\n",
    "\n",
    "data = np.load(\"trainingSet.npy\")\n",
    "\n",
    "fullList = []\n",
    "\n",
    "for i in range(10):\n",
    "    setOfDigits = []\n",
    "    for j in range(400*i, 400*i + 400):\n",
    "        vectorToMatrix = np.reshape(data[j], (20,20))\n",
    "        vectorToMatrix = np.array(vectorToMatrix)\n",
    "        \n",
    "        #reflecting the numbers along x-axis and then rotating 270 counterclockwise\n",
    "        #so that numbers are in their natural orientation\n",
    "        #vectorToMatrix = np.rot90(np.array(vectorToMatrix)[::-1],3)\n",
    "        \n",
    "        #reflecting the numbers along x-axis\n",
    "        #vectorToMatrix = np.array(vectorToMatrix)[::-1]\n",
    "        setOfDigits.append(vectorToMatrix)\n",
    "    fullList.append(setOfDigits)\n",
    "    \n",
    "#i.e.\n",
    "#fullList = [[400 20x20 matrices representing the original vectors representing the digit 0], \n",
    "#            [400 20x20 matrices representing the original vectors representing the digit 1],\n",
    "#            [400 20x20 matrices representing the original vectors representing the digit 2],\n",
    "#            ... , \n",
    "#            [400 20x20 matrices representing the original vectors representing the digit 9]]\n",
    "\n",
    "svdList = [[np.linalg.svd(vectorMatrix,full_matrices=True) for vectorMatrix in setOfDigits] for setOfDigits in fullList]\n",
    "\n",
    "sampleA = np.array([[1,1,0],[0,1,1]])\n",
    "u,s,vh = np.linalg.svd(sampleA, full_matrices=False, compute_uv=True)"
   ]
  },
  {
   "cell_type": "code",
   "execution_count": null,
   "id": "74f11041",
   "metadata": {},
   "outputs": [],
   "source": []
  }
 ],
 "metadata": {
  "kernelspec": {
   "display_name": "Python 3 (ipykernel)",
   "language": "python",
   "name": "python3"
  },
  "language_info": {
   "codemirror_mode": {
    "name": "ipython",
    "version": 3
   },
   "file_extension": ".py",
   "mimetype": "text/x-python",
   "name": "python",
   "nbconvert_exporter": "python",
   "pygments_lexer": "ipython3",
   "version": "3.10.11"
  }
 },
 "nbformat": 4,
 "nbformat_minor": 5
}
